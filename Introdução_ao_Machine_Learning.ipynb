{
  "nbformat": 4,
  "nbformat_minor": 0,
  "metadata": {
    "colab": {
      "name": "Introdução ao Machine Learning",
      "provenance": [],
      "collapsed_sections": [],
      "authorship_tag": "ABX9TyOUsIBM6HOQS1yOCDUq3Csx",
      "include_colab_link": true
    },
    "kernelspec": {
      "name": "python3",
      "display_name": "Python 3"
    },
    "language_info": {
      "name": "python"
    }
  },
  "cells": [
    {
      "cell_type": "markdown",
      "metadata": {
        "id": "view-in-github",
        "colab_type": "text"
      },
      "source": [
        "<a href=\"https://colab.research.google.com/github/VitorValandro/talk-introduction-to-ML/blob/main/Introdu%C3%A7%C3%A3o_ao_Machine_Learning.ipynb\" target=\"_parent\"><img src=\"https://colab.research.google.com/assets/colab-badge.svg\" alt=\"Open In Colab\"/></a>"
      ]
    },
    {
      "cell_type": "markdown",
      "metadata": {
        "id": "Ejqv0ymL_oQs"
      },
      "source": [
        "# Machine Learning ou Aprendizagem de Máquina"
      ]
    },
    {
      "cell_type": "markdown",
      "metadata": {
        "id": "-vqZJfmuBVU4"
      },
      "source": [
        "## Definição\n"
      ]
    },
    {
      "cell_type": "markdown",
      "metadata": {
        "id": "O1A9b1w0Apix"
      },
      "source": [
        "É um ramo da Inteligência Artificial baseado na análise estatística de dados que automatiza a construção de modelos analíticos a partir da ideia de que sistemas podem aprender, identificar padrões e tomar decisões com o mínimo de intervenção humana."
      ]
    },
    {
      "cell_type": "markdown",
      "metadata": {
        "id": "A_5OWZsm_xOB"
      },
      "source": [
        "**Aprendizagem de máquina é extrair informação a partir de dados.**"
      ]
    },
    {
      "cell_type": "markdown",
      "metadata": {
        "id": "p-xyxUszBp8z"
      },
      "source": [
        "Mesmo que não esteja explícita, a aprendizagem de máquina está cada vez mais presente em nosso dia a dia. Desde recomendações automáticas de quais filmes assistir, qual comida pedir, qual pedido comprar e qual música ouvir até identificar sinais de câncer precocemente ou traduzir informações do DNA. \n",
        "\n",
        "Enfim, o ponto é que a aprendizagem de máquina, inteligência artifical e tecnologia inteligente é o presente, tanto nas aplicações triviais como na pesquisa científica. Como já se tornou conhecimento popular, o futuro são dados, não importa quais sejam. Por isso é relevante pelo menos **entender** como esses algoritmos funcionam"
      ]
    },
    {
      "cell_type": "markdown",
      "metadata": {
        "id": "76kZMtQwD8ir"
      },
      "source": [
        "## Introdução"
      ]
    },
    {
      "cell_type": "markdown",
      "metadata": {
        "id": "1o4akvCZKBmL"
      },
      "source": [
        "Imagine que você foi incubido de analisar cada e-mail que chega na caixa de entrada de uma empresa e classificá-los como spam ou não, de modo a sempre deixar a caixa de entrada limpa e apenas com informações relevantes."
      ]
    },
    {
      "cell_type": "markdown",
      "metadata": {
        "id": "UsIonMA_ECNO"
      },
      "source": [
        "Depois de se entediar da tarefa, você resolve fazer um algoritmo para identificar se um e-mail é um spam ou não e automatizar essa tarefa. Qual seria o primeiro passo a ser tomado?\n",
        "\n",
        "**Saber o que caracteriza um e-mail como spam.**\n",
        "\n",
        "Talvez a única opção seria avaliar palavras que frequentemente aparecem em e-mails de spam, como \"promoção\", \"você ganhou X meses de...\" e outras expressões comuns. Depois de formar uma boa lista negra de palavras e expressões, basta implementar um algoritmo com *ifs*  e *elses* que verificam se o e-mail é ou não spam.\n",
        "\n",
        "Esse é um exemplo de um algoritmo \"inteligente\" que usa como regra de negócio o conhecimento do programador sobre e-mails de spam. Acontece que essa lógica tem várias falhas:\n",
        "\n",
        "*   É impossível analistas/programadores conseguirem classificar todas as palavras e expressões usadas;\n",
        "*   A lógica é específica para um único domínio, e qualquer mudança requer que o algoritmo seja reescrito;\n",
        "*   Muitos e-mails que não são spam podem ser classificados como spam pelo algoritmo, ocultando e-mails importantes para o usuário;\n",
        "\n",
        "\n",
        "\n",
        "\n"
      ]
    },
    {
      "cell_type": "markdown",
      "metadata": {
        "id": "CHvQxvdIJpRO"
      },
      "source": [
        "Esse é um caso de uso que pode ser facilmente explorado pela Aprendizagem de Máquina, que resultará em um modelo muito mais efetivo do que o algoritmo implementado na mão por um ser humano. Alimentando um algoritmo com os e-mails que você *já classificou* manualmente como spam ou não, você pode **ensinar** o computador a identificar padrões que caracterizam uma mensagem como spam. As duas principais vantagens do uso de Aprendizagem de Máquina neste caso são:\n",
        "\n",
        "*    O computador pode enxergar padrões que um humano não consegue ver;\n",
        "*    O computador pode se autoadaptar a novas características;\n"
      ]
    },
    {
      "cell_type": "markdown",
      "metadata": {
        "id": "oBZDTprnLJEA"
      },
      "source": [
        "Basicamente, a ideia desse modelo de Machine Learning pode ser aplicado em vários outros contextos, visto que todo algoritmo seguirá a mesma base: \n",
        "\n",
        "***identificação do problema -> extração de dados -> criação de um conjunto de dados que inclui a solução desejada -> treinamento do algoritmo -> aplicação***\n",
        "\n",
        "Alguns problemas que podem ser (e são) solucionados com Machine Learning:\n",
        "\n",
        "1.   Identificar informações manuscritas de um arquivo e digitalizá-las em um documento;\n",
        "2.   Determinar se um tumor é benigno ou maligno baseado em uma tomografia;\n",
        "3.   Detectar atividade fraudulenta em transações de cartão de crédito;\n",
        "4.   Classificar diferentes tipos de ataque DDoS;\n",
        "\n"
      ]
    },
    {
      "cell_type": "markdown",
      "metadata": {
        "id": "R5-FXjfZQvmm"
      },
      "source": [
        "Todos os exemplos dados até agora são de modelos de Aprendizagem de Máquina chamados **supervisionados**, ou derivados da **Aprendizagem Supervisionada** *(Supervised Learning)*. Além desse tipo, há também a **Aprendizagem Não Supervisionada** *(Unsupervised Learning)*. Vejamos a diferença:"
      ]
    },
    {
      "cell_type": "markdown",
      "metadata": {
        "id": "u-E6j5b-RPvE"
      },
      "source": [
        "### Aprendizagem Supervisionada"
      ]
    },
    {
      "cell_type": "markdown",
      "metadata": {
        "id": "rcyOQJyURWLU"
      },
      "source": [
        "São os modelos que discutimos até agora. O que caracteriza este tipo é que precisamos de **dados rotulados** para que o algoritmo funcione, isto é, é necessário de fato **ensinar** ativamente o computador com dados que já foram verificados e corrigidos, para que ele aprenda sobre informações previamente existentes e depois consiga replicar a solução."
      ]
    },
    {
      "cell_type": "markdown",
      "metadata": {
        "id": "IWHT4FomSAD5"
      },
      "source": [
        "### Aprendizagem Não Supervisionada"
      ]
    },
    {
      "cell_type": "markdown",
      "metadata": {
        "id": "px3P1-qMSDZs"
      },
      "source": [
        "Modelos não supervisionados são independentes, isto é, não precisam de orientação e são capazes de aprenderem **sozinhos**, sem nenhuma instrução prévia, para solucionar o problema. A vantagem é que você não precisa se dar o trabalho de rotular os dados e nem de identificar características que podem influenciar na classificação ou predição, já que muitas vezes você pode nem saber que dados são esses.\n",
        "\n",
        "O contra-ponto é que na maioria dos casos deverá ser necessário um ser humano para **interpretar** o resultado e validar o modelo.\n",
        "\n",
        "Alguns exemplos de casos de uso de modelos de Aprendizagem Não Supervisionada são:\n",
        "\n",
        "\n",
        "\n",
        "1.   Identificar tópicos de assunto em um blog;\n",
        "2.   Dividir usuários em grupos com preferências similares;\n",
        "3.   Detectar padrões de acesso anormal em um website;\n",
        "4.   Prever ou detectar ataques DDoS em redes de computadores;"
      ]
    },
    {
      "cell_type": "markdown",
      "metadata": {
        "id": "99kvCTf4UmvD"
      },
      "source": [
        "## Trabalhando com dados"
      ]
    },
    {
      "cell_type": "markdown",
      "metadata": {
        "id": "8ZPhTLkgUxc_"
      },
      "source": [
        "Machine Learning é sobre dados. Executar algoritmos é a parte fácil, extrair, identificar, limpar e processar os dados é que o grande negócio. Antes de mais nada, precisamos entender como são esses dados."
      ]
    },
    {
      "cell_type": "code",
      "metadata": {
        "id": "qeBj2W5I_lJr"
      },
      "source": [
        "# IMPORTAÇÕES NECESSÁRIAS PARA TODAS AS CÉLULAS DE CÓDIGO POSTERIORES.\n",
        "# MANTENHA SUA EXECUÇÃO ATUALIZADA.\n",
        "\n",
        "import numpy as np\n",
        "import matplotlib.pyplot as plt\n",
        "import pandas as pd"
      ],
      "execution_count": null,
      "outputs": []
    },
    {
      "cell_type": "markdown",
      "metadata": {
        "id": "xU9kdLg0VwUX"
      },
      "source": [
        "Para fins didáticos vamos abstrair algumas partes importantes, como a extração de dados. Aqui usaremos a biblioteca **sci-kit learn** do python, que traz funcionalidades, algoritmos e datasets prontos para serem utilizados.\n",
        "\n",
        "Frequentemente, os dados são armazenados em **matrizes**, por serem a estrutura de dados mais performática e que ocupa menos espaço em memória."
      ]
    },
    {
      "cell_type": "code",
      "metadata": {
        "colab": {
          "base_uri": "https://localhost:8080/"
        },
        "id": "41edt5D1VdSN",
        "outputId": "3fe7be7d-9c71-411c-84c5-3ae50537abe9"
      },
      "source": [
        "from sklearn.datasets import load_iris # importa o conjunto de dados\n",
        "iris_dataset = load_iris() # carrega os dados\n",
        "\n",
        "print(iris_dataset.keys()) # mostra todas as propriedades do dataset"
      ],
      "execution_count": null,
      "outputs": [
        {
          "output_type": "stream",
          "name": "stdout",
          "text": [
            "dict_keys(['data', 'target', 'target_names', 'DESCR', 'feature_names', 'filename'])\n"
          ]
        }
      ]
    },
    {
      "cell_type": "code",
      "metadata": {
        "id": "KS6MbyJoXzbM"
      },
      "source": [
        "print(iris_dataset[\"DESCR\"]) # mostra a descrição do conjunto de dados"
      ],
      "execution_count": null,
      "outputs": []
    },
    {
      "cell_type": "code",
      "metadata": {
        "id": "FJS5RPLmXuPT"
      },
      "source": [
        "print(iris_dataset[\"data\"]) # mostra na tela todos os dados do dataset"
      ],
      "execution_count": null,
      "outputs": []
    },
    {
      "cell_type": "code",
      "metadata": {
        "colab": {
          "base_uri": "https://localhost:8080/"
        },
        "id": "yoSltcgwYOqR",
        "outputId": "c7b464bb-ff71-4b9e-d9a9-a99468534f27"
      },
      "source": [
        "print(iris_dataset['target_names'])"
      ],
      "execution_count": null,
      "outputs": [
        {
          "output_type": "stream",
          "name": "stdout",
          "text": [
            "['sepal length (cm)', 'sepal width (cm)', 'petal length (cm)', 'petal width (cm)']\n"
          ]
        }
      ]
    },
    {
      "cell_type": "markdown",
      "metadata": {
        "id": "ypvQ6Fq5YY0H"
      },
      "source": [
        "Matrizes podem ser um tanto abstratas de se entender, e também armazenam pouca informação além dos próprios dados. Para alguns casos, uma estrutura de dados um pouco mais interessante são **DataFrames**. A biblioteca *pandas* do python traz ótimas funcionalidades para trabalharmos como dataframes."
      ]
    },
    {
      "cell_type": "code",
      "metadata": {
        "id": "iAEHeexlY5uB"
      },
      "source": [
        "# cria um dataframe a partir da matriz de dados e do rótulo de cada coluna\n",
        "iris_dataframe = pd.DataFrame(iris_dataset[\"data\"], \n",
        "                              columns=iris_dataset.feature_names)"
      ],
      "execution_count": null,
      "outputs": []
    },
    {
      "cell_type": "code",
      "metadata": {
        "colab": {
          "base_uri": "https://localhost:8080/",
          "height": 419
        },
        "id": "2I4HnqZmZXht",
        "outputId": "d109766f-1483-4b7f-a81d-921021026ec2"
      },
      "source": [
        "display(iris_dataframe) # apresenta na tela o dataframe"
      ],
      "execution_count": null,
      "outputs": [
        {
          "output_type": "display_data",
          "data": {
            "text/html": [
              "<div>\n",
              "<style scoped>\n",
              "    .dataframe tbody tr th:only-of-type {\n",
              "        vertical-align: middle;\n",
              "    }\n",
              "\n",
              "    .dataframe tbody tr th {\n",
              "        vertical-align: top;\n",
              "    }\n",
              "\n",
              "    .dataframe thead th {\n",
              "        text-align: right;\n",
              "    }\n",
              "</style>\n",
              "<table border=\"1\" class=\"dataframe\">\n",
              "  <thead>\n",
              "    <tr style=\"text-align: right;\">\n",
              "      <th></th>\n",
              "      <th>sepal length (cm)</th>\n",
              "      <th>sepal width (cm)</th>\n",
              "      <th>petal length (cm)</th>\n",
              "      <th>petal width (cm)</th>\n",
              "    </tr>\n",
              "  </thead>\n",
              "  <tbody>\n",
              "    <tr>\n",
              "      <th>0</th>\n",
              "      <td>5.1</td>\n",
              "      <td>3.5</td>\n",
              "      <td>1.4</td>\n",
              "      <td>0.2</td>\n",
              "    </tr>\n",
              "    <tr>\n",
              "      <th>1</th>\n",
              "      <td>4.9</td>\n",
              "      <td>3.0</td>\n",
              "      <td>1.4</td>\n",
              "      <td>0.2</td>\n",
              "    </tr>\n",
              "    <tr>\n",
              "      <th>2</th>\n",
              "      <td>4.7</td>\n",
              "      <td>3.2</td>\n",
              "      <td>1.3</td>\n",
              "      <td>0.2</td>\n",
              "    </tr>\n",
              "    <tr>\n",
              "      <th>3</th>\n",
              "      <td>4.6</td>\n",
              "      <td>3.1</td>\n",
              "      <td>1.5</td>\n",
              "      <td>0.2</td>\n",
              "    </tr>\n",
              "    <tr>\n",
              "      <th>4</th>\n",
              "      <td>5.0</td>\n",
              "      <td>3.6</td>\n",
              "      <td>1.4</td>\n",
              "      <td>0.2</td>\n",
              "    </tr>\n",
              "    <tr>\n",
              "      <th>...</th>\n",
              "      <td>...</td>\n",
              "      <td>...</td>\n",
              "      <td>...</td>\n",
              "      <td>...</td>\n",
              "    </tr>\n",
              "    <tr>\n",
              "      <th>145</th>\n",
              "      <td>6.7</td>\n",
              "      <td>3.0</td>\n",
              "      <td>5.2</td>\n",
              "      <td>2.3</td>\n",
              "    </tr>\n",
              "    <tr>\n",
              "      <th>146</th>\n",
              "      <td>6.3</td>\n",
              "      <td>2.5</td>\n",
              "      <td>5.0</td>\n",
              "      <td>1.9</td>\n",
              "    </tr>\n",
              "    <tr>\n",
              "      <th>147</th>\n",
              "      <td>6.5</td>\n",
              "      <td>3.0</td>\n",
              "      <td>5.2</td>\n",
              "      <td>2.0</td>\n",
              "    </tr>\n",
              "    <tr>\n",
              "      <th>148</th>\n",
              "      <td>6.2</td>\n",
              "      <td>3.4</td>\n",
              "      <td>5.4</td>\n",
              "      <td>2.3</td>\n",
              "    </tr>\n",
              "    <tr>\n",
              "      <th>149</th>\n",
              "      <td>5.9</td>\n",
              "      <td>3.0</td>\n",
              "      <td>5.1</td>\n",
              "      <td>1.8</td>\n",
              "    </tr>\n",
              "  </tbody>\n",
              "</table>\n",
              "<p>150 rows × 4 columns</p>\n",
              "</div>"
            ],
            "text/plain": [
              "     sepal length (cm)  sepal width (cm)  petal length (cm)  petal width (cm)\n",
              "0                  5.1               3.5                1.4               0.2\n",
              "1                  4.9               3.0                1.4               0.2\n",
              "2                  4.7               3.2                1.3               0.2\n",
              "3                  4.6               3.1                1.5               0.2\n",
              "4                  5.0               3.6                1.4               0.2\n",
              "..                 ...               ...                ...               ...\n",
              "145                6.7               3.0                5.2               2.3\n",
              "146                6.3               2.5                5.0               1.9\n",
              "147                6.5               3.0                5.2               2.0\n",
              "148                6.2               3.4                5.4               2.3\n",
              "149                5.9               3.0                5.1               1.8\n",
              "\n",
              "[150 rows x 4 columns]"
            ]
          },
          "metadata": {}
        }
      ]
    },
    {
      "cell_type": "markdown",
      "metadata": {
        "id": "IKhBytGFZdxp"
      },
      "source": [
        "### Amostras e Características (FEATURES)\n",
        "\n",
        "Em uma matriz bidimensional de dados, temos uma lista aninhada dentro de outra lista. Cada lista dentro da primeira lista são as **linhas da matriz**, e os valores dentro dessa lista são as **colunas da linha**.\n",
        "\n",
        "Aqui, o conceito a levar em conta é que cada linha é uma **amostra** *(sample)* dos meus dados, e cada coluna corresponde a uma **característica** *(feature)* dessa amostra."
      ]
    },
    {
      "cell_type": "markdown",
      "metadata": {
        "id": "BTFU4qthbIPF"
      },
      "source": [
        "### Computadores funcionam melhor com números\n",
        "\n",
        "Frequentemente você terá que limpar seus dados de um formato como texto para números. Isso acontece porque computadores são ruins para interpretar texto, enquanto são extremamente eficientes quando trabalham com números. \n",
        "\n",
        "A prática mais usada é que para cada parâmetro de texto, seja traduzido um número que o corresponde respectivamente."
      ]
    },
    {
      "cell_type": "code",
      "metadata": {
        "colab": {
          "base_uri": "https://localhost:8080/"
        },
        "id": "NjZNXX-db8Gf",
        "outputId": "457e492d-5397-4f7c-b39b-fc26b094262e"
      },
      "source": [
        "print(iris_dataset[\"target_names\"]) # mostra o nome dos rótulos"
      ],
      "execution_count": null,
      "outputs": [
        {
          "output_type": "stream",
          "name": "stdout",
          "text": [
            "['setosa' 'versicolor' 'virginica']\n"
          ]
        }
      ]
    },
    {
      "cell_type": "code",
      "metadata": {
        "colab": {
          "base_uri": "https://localhost:8080/"
        },
        "id": "r5YCDgyJay3J",
        "outputId": "76c3adb0-fff8-4094-adba-0f45ee45db9a"
      },
      "source": [
        "print(iris_dataset[\"target\"]) # mostra os valores dos rótulos do dataset"
      ],
      "execution_count": null,
      "outputs": [
        {
          "output_type": "stream",
          "name": "stdout",
          "text": [
            "[0 0 0 0 0 0 0 0 0 0 0 0 0 0 0 0 0 0 0 0 0 0 0 0 0 0 0 0 0 0 0 0 0 0 0 0 0\n",
            " 0 0 0 0 0 0 0 0 0 0 0 0 0 1 1 1 1 1 1 1 1 1 1 1 1 1 1 1 1 1 1 1 1 1 1 1 1\n",
            " 1 1 1 1 1 1 1 1 1 1 1 1 1 1 1 1 1 1 1 1 1 1 1 1 1 1 2 2 2 2 2 2 2 2 2 2 2\n",
            " 2 2 2 2 2 2 2 2 2 2 2 2 2 2 2 2 2 2 2 2 2 2 2 2 2 2 2 2 2 2 2 2 2 2 2 2 2\n",
            " 2 2]\n"
          ]
        }
      ]
    },
    {
      "cell_type": "markdown",
      "metadata": {
        "id": "SMpoiw-QcSM-"
      },
      "source": [
        "Portanto, quando carregarmos os dados no conjunto de dados, devemos usar os valores numéricos."
      ]
    },
    {
      "cell_type": "markdown",
      "metadata": {
        "id": "8kGZAdjKc5zR"
      },
      "source": [
        "### Conheça os dados\n",
        "\n",
        "Antes de implementar o modelo e escolher o algoritmo que será usado, você deve entender, estudar e conhecer os dados com que está trabalhando. Com isso, você pode ver como as *features* se relacionam, qual a relação delas com o parâmetro alvo, qual seu tipo, unidade, relevância e etc.\n",
        "\n",
        "Uma boa maneira de fazer isso é usando gráficos."
      ]
    },
    {
      "cell_type": "code",
      "metadata": {
        "colab": {
          "base_uri": "https://localhost:8080/",
          "height": 601
        },
        "id": "SGuD9cKmckuT",
        "outputId": "506126de-c432-4403-d802-d1eac9a78efa"
      },
      "source": [
        "from pandas.plotting import scatter_matrix # importa o gráfico de matriz de dispersão\n",
        "\n",
        "# create a scatter matrix from the dataframe, color by y_train\n",
        "grafico_dispersao = scatter_matrix(iris_dataframe, c=iris_dataset[\"target\"], figsize=(10, 10), marker='o',\n",
        " hist_kwds={'bins': 20}, s=60, alpha=.8)"
      ],
      "execution_count": null,
      "outputs": [
        {
          "output_type": "display_data",
          "data": {
            "image/png": "[encoded data removed]",
            "text/plain": [
              "<Figure size 720x720 with 16 Axes>"
            ]
          },
          "metadata": {
            "needs_background": "light"
          }
        }
      ]
    },
    {
      "cell_type": "markdown",
      "metadata": {
        "id": "K4jqrXAdehA3"
      },
      "source": [
        "A partir desse gráfico podemos ver que as espécies de flores estão bem dispersas entre o tamanho da sépala e da pétala. Esse é um sinal de que o Machine Learning pode ser aplicado, uma vez que vai conseguir efetivamente fazer a classificação das espécies.\n",
        "\n",
        "Se todas as bolinhas estivessem juntas demais e se misturassem *(como no par sepal width x sepal length)* não seria possível aplicar um algoritmo apenas com essas features, porque o modelo não conseguiria achar uma característica que distingue cada espécie."
      ]
    },
    {
      "cell_type": "markdown",
      "metadata": {
        "id": "_NOyCrEphn7W"
      },
      "source": [
        "### Dividindo o dataset entre treino e teste"
      ]
    },
    {
      "cell_type": "markdown",
      "metadata": {
        "id": "GQ_q38aAhsZw"
      },
      "source": [
        "O conjunto de dados com as 150 amostras já as trouxe rotuladas e classificadas. Em termos simples, elas já vieram com o *gabarito*. Para podermos confiar no resultado do nosso algoritmo de aprendizagem supervisionada, primeiros precisamos ensiná-lo e validar seu desempenho. \n",
        "\n",
        "Para tal, nós vamos dividir as 150 amostras em dois conjuntos de dados: um para **treinar o modelo** e outro para **testar o modelo**. Uma boa métrica é usar 75% dos dados para treinar a máquina e 25% dos dados para testar seu resultado."
      ]
    },
    {
      "cell_type": "code",
      "metadata": {
        "id": "KVF8c_Voiwma"
      },
      "source": [
        "from sklearn.model_selection import train_test_split # importa a função de dividir datasets\n",
        "\n",
        "X_train, X_test, y_train, y_test = train_test_split( # divide o dataset entre treino e teste (75%-25%)\n",
        " iris_dataset['data'], iris_dataset['target'], random_state=0)"
      ],
      "execution_count": null,
      "outputs": []
    },
    {
      "cell_type": "code",
      "metadata": {
        "colab": {
          "base_uri": "https://localhost:8080/"
        },
        "id": "rESX-nfJgNCX",
        "outputId": "78b6cc85-74ee-4d06-ebf1-d84f76338f5b"
      },
      "source": [
        "print(\"X_train shape: {}\".format(X_train.shape))\n",
        "print(\"X_test shape: {}\".format(X_test.shape))"
      ],
      "execution_count": null,
      "outputs": [
        {
          "output_type": "stream",
          "name": "stdout",
          "text": [
            "X_train shape: (112, 4)\n",
            "X_test shape: (38, 4)\n"
          ]
        }
      ]
    },
    {
      "cell_type": "markdown",
      "metadata": {
        "id": "MUGBLLoLgSIo"
      },
      "source": [
        "## Primeiro modelo de classificação\n",
        "\n",
        "Agora que fizemos um breve estudo sobre os dados, podemos aplicar um algoritmo de Machine Learning e validar nosso resultado.\n",
        "\n",
        "Existem duas subdivisões dentro da Aprendizagem de Máquina Supervisionada: os problemas de classificação e os problemas de regressão. O problema de classificação de espécies se encaixa no modelo de classificação, que tem como objetivo predizer um **rótulo**, ou seja, tomar uma decisão entre uma lista de possibilidades. Neste exemplo a lista de possibilidade são as tres diferentes espécies (Setosa, Versicolor e Virginica) e nosso objetivo é determinar a qual destas a flor pertence.\n",
        "\n",
        "Existem muitos algoritmos que podem ser usados, mas para mantermos simples vamos usar o **K-Nearest Neighbors** *(K-Vizinhos Próximos)*. Esse algoritmo irá classificar as espécies de novas amostras com base na espécie que tem os valores mais próximos no conjunto de dados de treinamento.'"
      ]
    },
    {
      "cell_type": "code",
      "metadata": {
        "id": "nfba7rZhjpGg"
      },
      "source": [
        "from sklearn.neighbors import KNeighborsClassifier # importa o algoritmo\n",
        "\n",
        "knn = KNeighborsClassifier(n_neighbors=1) # instancia o algoritmo considerando apenas 1 vizinho"
      ],
      "execution_count": null,
      "outputs": []
    },
    {
      "cell_type": "code",
      "metadata": {
        "colab": {
          "base_uri": "https://localhost:8080/"
        },
        "id": "0R7i4BK3jyYt",
        "outputId": "63b8ff35-f307-4222-ed8c-8b0c903d4cae"
      },
      "source": [
        "knn.fit(X_train, y_train) # função para treinar o modelo com os dados de treino"
      ],
      "execution_count": null,
      "outputs": [
        {
          "output_type": "execute_result",
          "data": {
            "text/plain": [
              "KNeighborsClassifier(algorithm='auto', leaf_size=30, metric='minkowski',\n",
              "                     metric_params=None, n_jobs=None, n_neighbors=1, p=2,\n",
              "                     weights='uniform')"
            ]
          },
          "metadata": {},
          "execution_count": 41
        }
      ]
    },
    {
      "cell_type": "markdown",
      "metadata": {
        "id": "w5_5YvjIx_C9"
      },
      "source": [
        "![knn.png](data:image/png;base64,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)\n"
      ]
    },
    {
      "cell_type": "markdown",
      "metadata": {
        "id": "ndFNYvIIkHzm"
      },
      "source": [
        "Agora o modelo está treinado. Isso quer dizer que ele já sabe reconhecer padrões entre as espécies e é capaz de classificar novas flores com base em seus dados. \n",
        "\n",
        "Digamos que encontramos uma Íris com um comprimento de sépala igual a 5 cm, largura da sépala igual a 2.9 cm, pétala com comprimento igual a 1 cm e pétala com largura igual a 0.2 cm. De qual espécie é essa íris? Vamos pedir ao nosso modelo."
      ]
    },
    {
      "cell_type": "code",
      "metadata": {
        "id": "onlut2IHksTC"
      },
      "source": [
        "X_new = np.array([[5, 2.9, 1, 0.2]]) # cria uma matriz com os dados da íris que encontramos"
      ],
      "execution_count": null,
      "outputs": []
    },
    {
      "cell_type": "code",
      "metadata": {
        "colab": {
          "base_uri": "https://localhost:8080/"
        },
        "id": "EQ9LCq1Mkxyn",
        "outputId": "1bd9bc2b-7279-456a-8701-5b51859cadf4"
      },
      "source": [
        "prediction = knn.predict(X_new) # para fazer uma predição, chamamos o método predict\n",
        "\n",
        "print(\"Predição: {}\".format(prediction))\n",
        "print(\"Nome da espécie: {}\".format(\n",
        " iris_dataset['target_names'][prediction]))"
      ],
      "execution_count": null,
      "outputs": [
        {
          "output_type": "stream",
          "name": "stdout",
          "text": [
            "Predição: [0]\n",
            "Nome da espécie: ['setosa']\n"
          ]
        }
      ]
    },
    {
      "cell_type": "markdown",
      "metadata": {
        "id": "cHZL9KdfkQ95"
      },
      "source": [
        "Certo, mas como podemos ter certeza de que o resultado está correto? Precisamos validar nosso modelo antes de confiarmos nele.\n",
        "\n",
        "Para isso, vamos fazer uma predição para cada íris no nosso conjunto de dados de teste e comparar com a verdadeira espécie. A taxa de acerto será nossa métrica para validar o modelo (essa métrica se chama **accuracy** *(acurácia)*, e é apenas um dos métodos de validação."
      ]
    },
    {
      "cell_type": "code",
      "metadata": {
        "colab": {
          "base_uri": "https://localhost:8080/"
        },
        "id": "INEB_l4tljKg",
        "outputId": "87bc03a0-f588-46f1-9897-6f9f18569b8d"
      },
      "source": [
        "y_pred = knn.predict(X_test) # faz a predição de todos os dados do dataset de teste\n",
        "print(\"Conjunto de predições de teste:\\n {}\".format(y_pred))"
      ],
      "execution_count": null,
      "outputs": [
        {
          "output_type": "stream",
          "name": "stdout",
          "text": [
            "Conjunto de predições de teste:\n",
            " [2 1 0 2 0 2 0 1 1 1 2 1 1 1 1 0 1 1 0 0 2 1 0 0 2 0 0 1 1 0 2 1 0 2 2 1 0\n",
            " 2]\n"
          ]
        }
      ]
    },
    {
      "cell_type": "code",
      "metadata": {
        "colab": {
          "base_uri": "https://localhost:8080/"
        },
        "id": "2hGwEdgfmAx-",
        "outputId": "60638fb8-9a39-4e86-e199-77fb1b841742"
      },
      "source": [
        "# comparamos quantas espécies foram classificadas corretamente\n",
        "print(\"Test set score: {:.2f}\".format(np.mean(y_pred == y_test)))"
      ],
      "execution_count": null,
      "outputs": [
        {
          "output_type": "stream",
          "name": "stdout",
          "text": [
            "Test set score: 0.97\n"
          ]
        }
      ]
    },
    {
      "cell_type": "markdown",
      "metadata": {
        "id": "w_UNgbn_mNVa"
      },
      "source": [
        "Nosso modelo obteve uma acurácia de 0.97, o que matematicamente significa que ele classifica corretamente a espécie 97% das vezes."
      ]
    },
    {
      "cell_type": "markdown",
      "metadata": {
        "id": "4PrnfStjpXlo"
      },
      "source": [
        "### Generalização, Subajuste e Sobreajuste\n",
        "\n",
        "O objetivo do aprendizado supervisionado é construir modelos a partir de dados rotulados que treinam o computador para torná-lo apto a fazer novas e acuradas predições em dados que tenham as mesmas características. Se um modelo é apto a fazer previsões precisas em dados que ele nunca viu, dizemos que ele é capaz de **generalizar** dos dados de treino para os dados de teste.\n",
        "\n",
        "**A intenção é construir um modelo que seja capaz de generalizar o mais precisamente possível.**\n",
        "\n",
        "Para atingir esse objetivo, é preciso manter o equilíbrio da generalização entre dois pontos: o muito generalizado e o muito específico. Esses pontos são controlados pelos ajustes **Underfitting** *(subajuste)* e **Overfitting** *(sobreajuste)*.\n",
        "\n",
        "*   **Overfitting**: é quando o modelo funciona apenas em dados com características muito específicas. O desvio começa no treino do modelo, que aprende a classificar a partir de valores de features que encaixam completamente nos dados de treino, mas quando apresentados a dados nunca vistos o modelo despenca em acurácia. Por isso, obter 100% de acurácia no conjunto de treino é mais um mau sinal do que bom.\n",
        "*   **Underfitting**: o oposto. É quando o modelo é simples demais e generaliza muito os dados, não levando em conta a variabilidade e outros aspectos mais complexos dos dados, fazendo com que a acurácia seja baixa mesmo no conjunto de treino.\n",
        "\n",
        "Quando há poucas features e poucas amostras, é difícil encontrar o equilíbrio de generalização ideal, visto que no mundo real existe muita variabilidade, exceções e outros aspectos a serem levados em conta. Por isso que dados são tão valiosos. Quanto mais dados, mais generalizado é meu modelo e melhor ele funciona com dados novos nunca vistos antes.\n",
        "\n",
        "<img src=\"https://i.stack.imgur.com/ml3cs.png\" />\n"
      ]
    },
    {
      "cell_type": "markdown",
      "metadata": {
        "id": "DAM-1f_uwuqq"
      },
      "source": [
        "## Primeiro modelo de Regressão\n",
        "\n",
        "Diferente dos problemas de Classificação, a Regressão tem como objetivo determinar um valor numérico real. Algoritmos de regressão podem ser usados para determinar a idade de uma pessoa, predizer o valor de um empreendimento nos próximos anos ou predizer qual será a produção da próxima safra de milho de uma fazenda a partir de dados das últimas safras, o clima da temporada e o preço das *commodities* no mercado.\n",
        "\n",
        "Predizer o valor exato em regressões é uma tarefa difícil que depende mais de sorte do que de estatística, portanto, o verdadeiro objetivo é a estimativa chegar em um número que seja próximo à realidade.\n",
        "\n",
        "Vamos testar um modelo de regressão linear (baseado em equações lineares de primeiro grau) tentando predizer o valor de uma casa na Califórnia com base nas suas informações:"
      ]
    },
    {
      "cell_type": "code",
      "metadata": {
        "id": "lTTrVPKO4imI"
      },
      "source": [
        "from sklearn.datasets import fetch_california_housing # importa o dataset\n",
        "\n",
        "housing = fetch_california_housing() # carrega o dataset\n",
        "print(housing[\"DESCR\"])"
      ],
      "execution_count": null,
      "outputs": []
    },
    {
      "cell_type": "code",
      "metadata": {
        "id": "_iDlAQvF563k",
        "colab": {
          "base_uri": "https://localhost:8080/",
          "height": 419
        },
        "outputId": "3b695102-b0ff-4b73-df93-eccd894140a0"
      },
      "source": [
        "housing_dataframe = pd.DataFrame(housing[\"data\"], \n",
        "                              columns=housing.feature_names)\n",
        "\n",
        "display(housing_dataframe)"
      ],
      "execution_count": null,
      "outputs": [
        {
          "output_type": "display_data",
          "data": {
            "text/html": [
              "<div>\n",
              "<style scoped>\n",
              "    .dataframe tbody tr th:only-of-type {\n",
              "        vertical-align: middle;\n",
              "    }\n",
              "\n",
              "    .dataframe tbody tr th {\n",
              "        vertical-align: top;\n",
              "    }\n",
              "\n",
              "    .dataframe thead th {\n",
              "        text-align: right;\n",
              "    }\n",
              "</style>\n",
              "<table border=\"1\" class=\"dataframe\">\n",
              "  <thead>\n",
              "    <tr style=\"text-align: right;\">\n",
              "      <th></th>\n",
              "      <th>MedInc</th>\n",
              "      <th>HouseAge</th>\n",
              "      <th>AveRooms</th>\n",
              "      <th>AveBedrms</th>\n",
              "      <th>Population</th>\n",
              "      <th>AveOccup</th>\n",
              "      <th>Latitude</th>\n",
              "      <th>Longitude</th>\n",
              "    </tr>\n",
              "  </thead>\n",
              "  <tbody>\n",
              "    <tr>\n",
              "      <th>0</th>\n",
              "      <td>8.3252</td>\n",
              "      <td>41.0</td>\n",
              "      <td>6.984127</td>\n",
              "      <td>1.023810</td>\n",
              "      <td>322.0</td>\n",
              "      <td>2.555556</td>\n",
              "      <td>37.88</td>\n",
              "      <td>-122.23</td>\n",
              "    </tr>\n",
              "    <tr>\n",
              "      <th>1</th>\n",
              "      <td>8.3014</td>\n",
              "      <td>21.0</td>\n",
              "      <td>6.238137</td>\n",
              "      <td>0.971880</td>\n",
              "      <td>2401.0</td>\n",
              "      <td>2.109842</td>\n",
              "      <td>37.86</td>\n",
              "      <td>-122.22</td>\n",
              "    </tr>\n",
              "    <tr>\n",
              "      <th>2</th>\n",
              "      <td>7.2574</td>\n",
              "      <td>52.0</td>\n",
              "      <td>8.288136</td>\n",
              "      <td>1.073446</td>\n",
              "      <td>496.0</td>\n",
              "      <td>2.802260</td>\n",
              "      <td>37.85</td>\n",
              "      <td>-122.24</td>\n",
              "    </tr>\n",
              "    <tr>\n",
              "      <th>3</th>\n",
              "      <td>5.6431</td>\n",
              "      <td>52.0</td>\n",
              "      <td>5.817352</td>\n",
              "      <td>1.073059</td>\n",
              "      <td>558.0</td>\n",
              "      <td>2.547945</td>\n",
              "      <td>37.85</td>\n",
              "      <td>-122.25</td>\n",
              "    </tr>\n",
              "    <tr>\n",
              "      <th>4</th>\n",
              "      <td>3.8462</td>\n",
              "      <td>52.0</td>\n",
              "      <td>6.281853</td>\n",
              "      <td>1.081081</td>\n",
              "      <td>565.0</td>\n",
              "      <td>2.181467</td>\n",
              "      <td>37.85</td>\n",
              "      <td>-122.25</td>\n",
              "    </tr>\n",
              "    <tr>\n",
              "      <th>...</th>\n",
              "      <td>...</td>\n",
              "      <td>...</td>\n",
              "      <td>...</td>\n",
              "      <td>...</td>\n",
              "      <td>...</td>\n",
              "      <td>...</td>\n",
              "      <td>...</td>\n",
              "      <td>...</td>\n",
              "    </tr>\n",
              "    <tr>\n",
              "      <th>20635</th>\n",
              "      <td>1.5603</td>\n",
              "      <td>25.0</td>\n",
              "      <td>5.045455</td>\n",
              "      <td>1.133333</td>\n",
              "      <td>845.0</td>\n",
              "      <td>2.560606</td>\n",
              "      <td>39.48</td>\n",
              "      <td>-121.09</td>\n",
              "    </tr>\n",
              "    <tr>\n",
              "      <th>20636</th>\n",
              "      <td>2.5568</td>\n",
              "      <td>18.0</td>\n",
              "      <td>6.114035</td>\n",
              "      <td>1.315789</td>\n",
              "      <td>356.0</td>\n",
              "      <td>3.122807</td>\n",
              "      <td>39.49</td>\n",
              "      <td>-121.21</td>\n",
              "    </tr>\n",
              "    <tr>\n",
              "      <th>20637</th>\n",
              "      <td>1.7000</td>\n",
              "      <td>17.0</td>\n",
              "      <td>5.205543</td>\n",
              "      <td>1.120092</td>\n",
              "      <td>1007.0</td>\n",
              "      <td>2.325635</td>\n",
              "      <td>39.43</td>\n",
              "      <td>-121.22</td>\n",
              "    </tr>\n",
              "    <tr>\n",
              "      <th>20638</th>\n",
              "      <td>1.8672</td>\n",
              "      <td>18.0</td>\n",
              "      <td>5.329513</td>\n",
              "      <td>1.171920</td>\n",
              "      <td>741.0</td>\n",
              "      <td>2.123209</td>\n",
              "      <td>39.43</td>\n",
              "      <td>-121.32</td>\n",
              "    </tr>\n",
              "    <tr>\n",
              "      <th>20639</th>\n",
              "      <td>2.3886</td>\n",
              "      <td>16.0</td>\n",
              "      <td>5.254717</td>\n",
              "      <td>1.162264</td>\n",
              "      <td>1387.0</td>\n",
              "      <td>2.616981</td>\n",
              "      <td>39.37</td>\n",
              "      <td>-121.24</td>\n",
              "    </tr>\n",
              "  </tbody>\n",
              "</table>\n",
              "<p>20640 rows × 8 columns</p>\n",
              "</div>"
            ],
            "text/plain": [
              "       MedInc  HouseAge  AveRooms  ...  AveOccup  Latitude  Longitude\n",
              "0      8.3252      41.0  6.984127  ...  2.555556     37.88    -122.23\n",
              "1      8.3014      21.0  6.238137  ...  2.109842     37.86    -122.22\n",
              "2      7.2574      52.0  8.288136  ...  2.802260     37.85    -122.24\n",
              "3      5.6431      52.0  5.817352  ...  2.547945     37.85    -122.25\n",
              "4      3.8462      52.0  6.281853  ...  2.181467     37.85    -122.25\n",
              "...       ...       ...       ...  ...       ...       ...        ...\n",
              "20635  1.5603      25.0  5.045455  ...  2.560606     39.48    -121.09\n",
              "20636  2.5568      18.0  6.114035  ...  3.122807     39.49    -121.21\n",
              "20637  1.7000      17.0  5.205543  ...  2.325635     39.43    -121.22\n",
              "20638  1.8672      18.0  5.329513  ...  2.123209     39.43    -121.32\n",
              "20639  2.3886      16.0  5.254717  ...  2.616981     39.37    -121.24\n",
              "\n",
              "[20640 rows x 8 columns]"
            ]
          },
          "metadata": {}
        }
      ]
    },
    {
      "cell_type": "code",
      "metadata": {
        "colab": {
          "base_uri": "https://localhost:8080/"
        },
        "id": "fDfOR5cs46go",
        "outputId": "f9ebcfbd-cbcd-44e5-a893-fa4916544901"
      },
      "source": [
        "from sklearn.linear_model import LinearRegression\n",
        "\n",
        "X_train, X_test, y_train, y_test = train_test_split(housing[\"data\"], housing[\"target\"], random_state=0)\n",
        "lr = LinearRegression().fit(X_train, y_train)\n",
        "print(\"Training set score: {:.2f}\".format(lr.score(X_train, y_train)))\n",
        "print(\"Test set score: {:.2f}\".format(lr.score(X_test, y_test)))"
      ],
      "execution_count": null,
      "outputs": [
        {
          "output_type": "stream",
          "name": "stdout",
          "text": [
            "Training set score: 0.61\n",
            "Test set score: 0.59\n"
          ]
        }
      ]
    },
    {
      "cell_type": "markdown",
      "metadata": {
        "id": "hCBZyLi9vgmM"
      },
      "source": [
        "## Identificando tumores benignos e malignos"
      ]
    },
    {
      "cell_type": "markdown",
      "metadata": {
        "id": "YkxlUCUIwYVp"
      },
      "source": [
        "Para montarmos um modelo de aprendizagem de máquina de ponta a ponta e conhecermos novos algoritmos, vamos usar o conjunto de dados de diagnósticos de Câncer de Mama do estado de Winsconsin na década de 90. O objetivo é, a partir dos dados dos exames que identificaram tumores em pacientes, classificar esses tumores como benignos ou malignos."
      ]
    },
    {
      "cell_type": "code",
      "metadata": {
        "id": "YH_QPw2uvxWk"
      },
      "source": [
        "from sklearn.datasets import load_breast_cancer\n",
        "cancer_dataset = load_breast_cancer()\n",
        "\n",
        "print(cancer_dataset[\"DESCR\"])"
      ],
      "execution_count": null,
      "outputs": []
    },
    {
      "cell_type": "code",
      "metadata": {
        "id": "rgIedcrHzwgr",
        "colab": {
          "base_uri": "https://localhost:8080/",
          "height": 473
        },
        "outputId": "9eaca549-7402-4f33-9a58-808e8ef9b845"
      },
      "source": [
        "cancer_df = pd.DataFrame(cancer_dataset[\"data\"], \n",
        "                              columns=cancer_dataset.feature_names)\n",
        "\n",
        "display(cancer_df)"
      ],
      "execution_count": null,
      "outputs": [
        {
          "output_type": "display_data",
          "data": {
            "text/html": [
              "<div>\n",
              "<style scoped>\n",
              "    .dataframe tbody tr th:only-of-type {\n",
              "        vertical-align: middle;\n",
              "    }\n",
              "\n",
              "    .dataframe tbody tr th {\n",
              "        vertical-align: top;\n",
              "    }\n",
              "\n",
              "    .dataframe thead th {\n",
              "        text-align: right;\n",
              "    }\n",
              "</style>\n",
              "<table border=\"1\" class=\"dataframe\">\n",
              "  <thead>\n",
              "    <tr style=\"text-align: right;\">\n",
              "      <th></th>\n",
              "      <th>mean radius</th>\n",
              "      <th>mean texture</th>\n",
              "      <th>mean perimeter</th>\n",
              "      <th>mean area</th>\n",
              "      <th>mean smoothness</th>\n",
              "      <th>mean compactness</th>\n",
              "      <th>mean concavity</th>\n",
              "      <th>mean concave points</th>\n",
              "      <th>mean symmetry</th>\n",
              "      <th>mean fractal dimension</th>\n",
              "      <th>radius error</th>\n",
              "      <th>texture error</th>\n",
              "      <th>perimeter error</th>\n",
              "      <th>area error</th>\n",
              "      <th>smoothness error</th>\n",
              "      <th>compactness error</th>\n",
              "      <th>concavity error</th>\n",
              "      <th>concave points error</th>\n",
              "      <th>symmetry error</th>\n",
              "      <th>fractal dimension error</th>\n",
              "      <th>worst radius</th>\n",
              "      <th>worst texture</th>\n",
              "      <th>worst perimeter</th>\n",
              "      <th>worst area</th>\n",
              "      <th>worst smoothness</th>\n",
              "      <th>worst compactness</th>\n",
              "      <th>worst concavity</th>\n",
              "      <th>worst concave points</th>\n",
              "      <th>worst symmetry</th>\n",
              "      <th>worst fractal dimension</th>\n",
              "    </tr>\n",
              "  </thead>\n",
              "  <tbody>\n",
              "    <tr>\n",
              "      <th>0</th>\n",
              "      <td>17.99</td>\n",
              "      <td>10.38</td>\n",
              "      <td>122.80</td>\n",
              "      <td>1001.0</td>\n",
              "      <td>0.11840</td>\n",
              "      <td>0.27760</td>\n",
              "      <td>0.30010</td>\n",
              "      <td>0.14710</td>\n",
              "      <td>0.2419</td>\n",
              "      <td>0.07871</td>\n",
              "      <td>1.0950</td>\n",
              "      <td>0.9053</td>\n",
              "      <td>8.589</td>\n",
              "      <td>153.40</td>\n",
              "      <td>0.006399</td>\n",
              "      <td>0.04904</td>\n",
              "      <td>0.05373</td>\n",
              "      <td>0.01587</td>\n",
              "      <td>0.03003</td>\n",
              "      <td>0.006193</td>\n",
              "      <td>25.380</td>\n",
              "      <td>17.33</td>\n",
              "      <td>184.60</td>\n",
              "      <td>2019.0</td>\n",
              "      <td>0.16220</td>\n",
              "      <td>0.66560</td>\n",
              "      <td>0.7119</td>\n",
              "      <td>0.2654</td>\n",
              "      <td>0.4601</td>\n",
              "      <td>0.11890</td>\n",
              "    </tr>\n",
              "    <tr>\n",
              "      <th>1</th>\n",
              "      <td>20.57</td>\n",
              "      <td>17.77</td>\n",
              "      <td>132.90</td>\n",
              "      <td>1326.0</td>\n",
              "      <td>0.08474</td>\n",
              "      <td>0.07864</td>\n",
              "      <td>0.08690</td>\n",
              "      <td>0.07017</td>\n",
              "      <td>0.1812</td>\n",
              "      <td>0.05667</td>\n",
              "      <td>0.5435</td>\n",
              "      <td>0.7339</td>\n",
              "      <td>3.398</td>\n",
              "      <td>74.08</td>\n",
              "      <td>0.005225</td>\n",
              "      <td>0.01308</td>\n",
              "      <td>0.01860</td>\n",
              "      <td>0.01340</td>\n",
              "      <td>0.01389</td>\n",
              "      <td>0.003532</td>\n",
              "      <td>24.990</td>\n",
              "      <td>23.41</td>\n",
              "      <td>158.80</td>\n",
              "      <td>1956.0</td>\n",
              "      <td>0.12380</td>\n",
              "      <td>0.18660</td>\n",
              "      <td>0.2416</td>\n",
              "      <td>0.1860</td>\n",
              "      <td>0.2750</td>\n",
              "      <td>0.08902</td>\n",
              "    </tr>\n",
              "    <tr>\n",
              "      <th>2</th>\n",
              "      <td>19.69</td>\n",
              "      <td>21.25</td>\n",
              "      <td>130.00</td>\n",
              "      <td>1203.0</td>\n",
              "      <td>0.10960</td>\n",
              "      <td>0.15990</td>\n",
              "      <td>0.19740</td>\n",
              "      <td>0.12790</td>\n",
              "      <td>0.2069</td>\n",
              "      <td>0.05999</td>\n",
              "      <td>0.7456</td>\n",
              "      <td>0.7869</td>\n",
              "      <td>4.585</td>\n",
              "      <td>94.03</td>\n",
              "      <td>0.006150</td>\n",
              "      <td>0.04006</td>\n",
              "      <td>0.03832</td>\n",
              "      <td>0.02058</td>\n",
              "      <td>0.02250</td>\n",
              "      <td>0.004571</td>\n",
              "      <td>23.570</td>\n",
              "      <td>25.53</td>\n",
              "      <td>152.50</td>\n",
              "      <td>1709.0</td>\n",
              "      <td>0.14440</td>\n",
              "      <td>0.42450</td>\n",
              "      <td>0.4504</td>\n",
              "      <td>0.2430</td>\n",
              "      <td>0.3613</td>\n",
              "      <td>0.08758</td>\n",
              "    </tr>\n",
              "    <tr>\n",
              "      <th>3</th>\n",
              "      <td>11.42</td>\n",
              "      <td>20.38</td>\n",
              "      <td>77.58</td>\n",
              "      <td>386.1</td>\n",
              "      <td>0.14250</td>\n",
              "      <td>0.28390</td>\n",
              "      <td>0.24140</td>\n",
              "      <td>0.10520</td>\n",
              "      <td>0.2597</td>\n",
              "      <td>0.09744</td>\n",
              "      <td>0.4956</td>\n",
              "      <td>1.1560</td>\n",
              "      <td>3.445</td>\n",
              "      <td>27.23</td>\n",
              "      <td>0.009110</td>\n",
              "      <td>0.07458</td>\n",
              "      <td>0.05661</td>\n",
              "      <td>0.01867</td>\n",
              "      <td>0.05963</td>\n",
              "      <td>0.009208</td>\n",
              "      <td>14.910</td>\n",
              "      <td>26.50</td>\n",
              "      <td>98.87</td>\n",
              "      <td>567.7</td>\n",
              "      <td>0.20980</td>\n",
              "      <td>0.86630</td>\n",
              "      <td>0.6869</td>\n",
              "      <td>0.2575</td>\n",
              "      <td>0.6638</td>\n",
              "      <td>0.17300</td>\n",
              "    </tr>\n",
              "    <tr>\n",
              "      <th>4</th>\n",
              "      <td>20.29</td>\n",
              "      <td>14.34</td>\n",
              "      <td>135.10</td>\n",
              "      <td>1297.0</td>\n",
              "      <td>0.10030</td>\n",
              "      <td>0.13280</td>\n",
              "      <td>0.19800</td>\n",
              "      <td>0.10430</td>\n",
              "      <td>0.1809</td>\n",
              "      <td>0.05883</td>\n",
              "      <td>0.7572</td>\n",
              "      <td>0.7813</td>\n",
              "      <td>5.438</td>\n",
              "      <td>94.44</td>\n",
              "      <td>0.011490</td>\n",
              "      <td>0.02461</td>\n",
              "      <td>0.05688</td>\n",
              "      <td>0.01885</td>\n",
              "      <td>0.01756</td>\n",
              "      <td>0.005115</td>\n",
              "      <td>22.540</td>\n",
              "      <td>16.67</td>\n",
              "      <td>152.20</td>\n",
              "      <td>1575.0</td>\n",
              "      <td>0.13740</td>\n",
              "      <td>0.20500</td>\n",
              "      <td>0.4000</td>\n",
              "      <td>0.1625</td>\n",
              "      <td>0.2364</td>\n",
              "      <td>0.07678</td>\n",
              "    </tr>\n",
              "    <tr>\n",
              "      <th>...</th>\n",
              "      <td>...</td>\n",
              "      <td>...</td>\n",
              "      <td>...</td>\n",
              "      <td>...</td>\n",
              "      <td>...</td>\n",
              "      <td>...</td>\n",
              "      <td>...</td>\n",
              "      <td>...</td>\n",
              "      <td>...</td>\n",
              "      <td>...</td>\n",
              "      <td>...</td>\n",
              "      <td>...</td>\n",
              "      <td>...</td>\n",
              "      <td>...</td>\n",
              "      <td>...</td>\n",
              "      <td>...</td>\n",
              "      <td>...</td>\n",
              "      <td>...</td>\n",
              "      <td>...</td>\n",
              "      <td>...</td>\n",
              "      <td>...</td>\n",
              "      <td>...</td>\n",
              "      <td>...</td>\n",
              "      <td>...</td>\n",
              "      <td>...</td>\n",
              "      <td>...</td>\n",
              "      <td>...</td>\n",
              "      <td>...</td>\n",
              "      <td>...</td>\n",
              "      <td>...</td>\n",
              "    </tr>\n",
              "    <tr>\n",
              "      <th>564</th>\n",
              "      <td>21.56</td>\n",
              "      <td>22.39</td>\n",
              "      <td>142.00</td>\n",
              "      <td>1479.0</td>\n",
              "      <td>0.11100</td>\n",
              "      <td>0.11590</td>\n",
              "      <td>0.24390</td>\n",
              "      <td>0.13890</td>\n",
              "      <td>0.1726</td>\n",
              "      <td>0.05623</td>\n",
              "      <td>1.1760</td>\n",
              "      <td>1.2560</td>\n",
              "      <td>7.673</td>\n",
              "      <td>158.70</td>\n",
              "      <td>0.010300</td>\n",
              "      <td>0.02891</td>\n",
              "      <td>0.05198</td>\n",
              "      <td>0.02454</td>\n",
              "      <td>0.01114</td>\n",
              "      <td>0.004239</td>\n",
              "      <td>25.450</td>\n",
              "      <td>26.40</td>\n",
              "      <td>166.10</td>\n",
              "      <td>2027.0</td>\n",
              "      <td>0.14100</td>\n",
              "      <td>0.21130</td>\n",
              "      <td>0.4107</td>\n",
              "      <td>0.2216</td>\n",
              "      <td>0.2060</td>\n",
              "      <td>0.07115</td>\n",
              "    </tr>\n",
              "    <tr>\n",
              "      <th>565</th>\n",
              "      <td>20.13</td>\n",
              "      <td>28.25</td>\n",
              "      <td>131.20</td>\n",
              "      <td>1261.0</td>\n",
              "      <td>0.09780</td>\n",
              "      <td>0.10340</td>\n",
              "      <td>0.14400</td>\n",
              "      <td>0.09791</td>\n",
              "      <td>0.1752</td>\n",
              "      <td>0.05533</td>\n",
              "      <td>0.7655</td>\n",
              "      <td>2.4630</td>\n",
              "      <td>5.203</td>\n",
              "      <td>99.04</td>\n",
              "      <td>0.005769</td>\n",
              "      <td>0.02423</td>\n",
              "      <td>0.03950</td>\n",
              "      <td>0.01678</td>\n",
              "      <td>0.01898</td>\n",
              "      <td>0.002498</td>\n",
              "      <td>23.690</td>\n",
              "      <td>38.25</td>\n",
              "      <td>155.00</td>\n",
              "      <td>1731.0</td>\n",
              "      <td>0.11660</td>\n",
              "      <td>0.19220</td>\n",
              "      <td>0.3215</td>\n",
              "      <td>0.1628</td>\n",
              "      <td>0.2572</td>\n",
              "      <td>0.06637</td>\n",
              "    </tr>\n",
              "    <tr>\n",
              "      <th>566</th>\n",
              "      <td>16.60</td>\n",
              "      <td>28.08</td>\n",
              "      <td>108.30</td>\n",
              "      <td>858.1</td>\n",
              "      <td>0.08455</td>\n",
              "      <td>0.10230</td>\n",
              "      <td>0.09251</td>\n",
              "      <td>0.05302</td>\n",
              "      <td>0.1590</td>\n",
              "      <td>0.05648</td>\n",
              "      <td>0.4564</td>\n",
              "      <td>1.0750</td>\n",
              "      <td>3.425</td>\n",
              "      <td>48.55</td>\n",
              "      <td>0.005903</td>\n",
              "      <td>0.03731</td>\n",
              "      <td>0.04730</td>\n",
              "      <td>0.01557</td>\n",
              "      <td>0.01318</td>\n",
              "      <td>0.003892</td>\n",
              "      <td>18.980</td>\n",
              "      <td>34.12</td>\n",
              "      <td>126.70</td>\n",
              "      <td>1124.0</td>\n",
              "      <td>0.11390</td>\n",
              "      <td>0.30940</td>\n",
              "      <td>0.3403</td>\n",
              "      <td>0.1418</td>\n",
              "      <td>0.2218</td>\n",
              "      <td>0.07820</td>\n",
              "    </tr>\n",
              "    <tr>\n",
              "      <th>567</th>\n",
              "      <td>20.60</td>\n",
              "      <td>29.33</td>\n",
              "      <td>140.10</td>\n",
              "      <td>1265.0</td>\n",
              "      <td>0.11780</td>\n",
              "      <td>0.27700</td>\n",
              "      <td>0.35140</td>\n",
              "      <td>0.15200</td>\n",
              "      <td>0.2397</td>\n",
              "      <td>0.07016</td>\n",
              "      <td>0.7260</td>\n",
              "      <td>1.5950</td>\n",
              "      <td>5.772</td>\n",
              "      <td>86.22</td>\n",
              "      <td>0.006522</td>\n",
              "      <td>0.06158</td>\n",
              "      <td>0.07117</td>\n",
              "      <td>0.01664</td>\n",
              "      <td>0.02324</td>\n",
              "      <td>0.006185</td>\n",
              "      <td>25.740</td>\n",
              "      <td>39.42</td>\n",
              "      <td>184.60</td>\n",
              "      <td>1821.0</td>\n",
              "      <td>0.16500</td>\n",
              "      <td>0.86810</td>\n",
              "      <td>0.9387</td>\n",
              "      <td>0.2650</td>\n",
              "      <td>0.4087</td>\n",
              "      <td>0.12400</td>\n",
              "    </tr>\n",
              "    <tr>\n",
              "      <th>568</th>\n",
              "      <td>7.76</td>\n",
              "      <td>24.54</td>\n",
              "      <td>47.92</td>\n",
              "      <td>181.0</td>\n",
              "      <td>0.05263</td>\n",
              "      <td>0.04362</td>\n",
              "      <td>0.00000</td>\n",
              "      <td>0.00000</td>\n",
              "      <td>0.1587</td>\n",
              "      <td>0.05884</td>\n",
              "      <td>0.3857</td>\n",
              "      <td>1.4280</td>\n",
              "      <td>2.548</td>\n",
              "      <td>19.15</td>\n",
              "      <td>0.007189</td>\n",
              "      <td>0.00466</td>\n",
              "      <td>0.00000</td>\n",
              "      <td>0.00000</td>\n",
              "      <td>0.02676</td>\n",
              "      <td>0.002783</td>\n",
              "      <td>9.456</td>\n",
              "      <td>30.37</td>\n",
              "      <td>59.16</td>\n",
              "      <td>268.6</td>\n",
              "      <td>0.08996</td>\n",
              "      <td>0.06444</td>\n",
              "      <td>0.0000</td>\n",
              "      <td>0.0000</td>\n",
              "      <td>0.2871</td>\n",
              "      <td>0.07039</td>\n",
              "    </tr>\n",
              "  </tbody>\n",
              "</table>\n",
              "<p>569 rows × 30 columns</p>\n",
              "</div>"
            ],
            "text/plain": [
              "     mean radius  mean texture  ...  worst symmetry  worst fractal dimension\n",
              "0          17.99         10.38  ...          0.4601                  0.11890\n",
              "1          20.57         17.77  ...          0.2750                  0.08902\n",
              "2          19.69         21.25  ...          0.3613                  0.08758\n",
              "3          11.42         20.38  ...          0.6638                  0.17300\n",
              "4          20.29         14.34  ...          0.2364                  0.07678\n",
              "..           ...           ...  ...             ...                      ...\n",
              "564        21.56         22.39  ...          0.2060                  0.07115\n",
              "565        20.13         28.25  ...          0.2572                  0.06637\n",
              "566        16.60         28.08  ...          0.2218                  0.07820\n",
              "567        20.60         29.33  ...          0.4087                  0.12400\n",
              "568         7.76         24.54  ...          0.2871                  0.07039\n",
              "\n",
              "[569 rows x 30 columns]"
            ]
          },
          "metadata": {}
        }
      ]
    },
    {
      "cell_type": "code",
      "metadata": {
        "id": "Yq3kjjfs0aqp"
      },
      "source": [
        "from sklearn.model_selection import train_test_split # importa a função de dividir datasets\n",
        "\n",
        "X_train, X_test, y_train, y_test = train_test_split( # divide o dataset entre treino e teste (75%-25%)\n",
        " cancer_dataset['data'], cancer_dataset['target'], stratify=cancer_dataset.target, random_state=42)"
      ],
      "execution_count": null,
      "outputs": []
    },
    {
      "cell_type": "code",
      "metadata": {
        "colab": {
          "base_uri": "https://localhost:8080/"
        },
        "id": "41QqAcJs0jyW",
        "outputId": "4f4c8280-653c-4393-94c6-c3f85b6e8e57"
      },
      "source": [
        "print(\"X_train shape: {}\".format(X_train.shape))\n",
        "print(\"X_test shape: {}\".format(X_test.shape))"
      ],
      "execution_count": null,
      "outputs": [
        {
          "output_type": "stream",
          "name": "stdout",
          "text": [
            "X_train shape: (426, 30)\n",
            "X_test shape: (143, 30)\n"
          ]
        }
      ]
    },
    {
      "cell_type": "markdown",
      "metadata": {
        "id": "hLRujO0c0nlQ"
      },
      "source": [
        "### Decision Tree (Árvore de Decisão)\n",
        "\n",
        "Esse algoritmo irá criar uma série de estruturas condicionais que dividirão nossos dados em \"folhas\", formando uma grande árvore. Para construir a árvore, o algoritmo procura entre todas as possíveis perguntas e escolhe a mais informativa, isto é, a que melhor divide os dados. Se não limitarmos o número de iterações que o algoritmo pode fazer, o **overfitting** é garantido, visto que o modelo se adequará 100% aos treinos pois terá feito todas as perguntas aos dados até classificá-los completamente."
      ]
    },
    {
      "cell_type": "code",
      "metadata": {
        "colab": {
          "base_uri": "https://localhost:8080/"
        },
        "id": "OqWF5JOZ0xxX",
        "outputId": "c7dfd761-1123-4114-a945-99a102f3c576"
      },
      "source": [
        "from sklearn.tree import DecisionTreeClassifier\n",
        "\n",
        "tree = DecisionTreeClassifier(random_state=12) # instancia modelo sem parâmetro\n",
        "tree.fit(X_train, y_train)\n",
        "print(\"Accuracy on training set: {:.3f}\".format(tree.score(X_train, y_train)))\n",
        "print(\"Accuracy on test set: {:.3f}\".format(tree.score(X_test, y_test)))\n"
      ],
      "execution_count": null,
      "outputs": [
        {
          "output_type": "stream",
          "name": "stdout",
          "text": [
            "Accuracy on training set: 1.000\n",
            "Accuracy on test set: 0.916\n"
          ]
        }
      ]
    },
    {
      "cell_type": "markdown",
      "metadata": {
        "id": "Tei8Phm24EdF"
      },
      "source": [
        "Limitando o número de perguntas e as folhas geradas na árvore, é possível reduzir o overfitting e conseguir uma generalização mais próxima da ideal"
      ]
    },
    {
      "cell_type": "code",
      "metadata": {
        "colab": {
          "base_uri": "https://localhost:8080/"
        },
        "id": "xr8mXRpf3IaY",
        "outputId": "18115ade-08a8-45ba-b770-df8d733e0339"
      },
      "source": [
        "tree = DecisionTreeClassifier(max_depth=4, random_state=42) # limita a 4 perguntas para diminui o overfitting\n",
        "tree.fit(X_train, y_train)\n",
        "\n",
        "print(\"Accuracy on training set: {:.3f}\".format(tree.score(X_train, y_train)))\n",
        "print(\"Accuracy on test set: {:.3f}\".format(tree.score(X_test, y_test)))"
      ],
      "execution_count": null,
      "outputs": [
        {
          "output_type": "stream",
          "name": "stdout",
          "text": [
            "Accuracy on training set: 0.988\n",
            "Accuracy on test set: 0.944\n"
          ]
        }
      ]
    },
    {
      "cell_type": "code",
      "metadata": {
        "id": "GRRAS9DI3dCo"
      },
      "source": [
        "# exporta a estrutura da árvore decisão para um arquivo graphviz\n",
        "from sklearn.tree import export_graphviz\n",
        "export_graphviz(tree, out_file=\"tree.dot\", class_names=[\"malignant\", \"benign\"],\n",
        " feature_names=cancer.feature_names, impurity=False, filled=True)"
      ],
      "execution_count": null,
      "outputs": []
    },
    {
      "cell_type": "code",
      "metadata": {
        "id": "ENoZhd4R3ewQ",
        "colab": {
          "base_uri": "https://localhost:8080/",
          "height": 677
        },
        "outputId": "f2447eb8-6955-4bbc-8360-14c3a0ac1a82"
      },
      "source": [
        "# abre o arquivo e imprime na tela\n",
        "import graphviz\n",
        "with open(\"tree.dot\") as f:\n",
        " dot_graph = f.read()\n",
        "graphviz.Source(dot_graph)"
      ],
      "execution_count": null,
      "outputs": [
        {
          "output_type": "execute_result",
          "data": {
            "text/plain": [
              "<graphviz.files.Source at 0x7f24d9036390>"
            ],
            "image/svg+xml": "<?xml version=\"1.0\" encoding=\"UTF-8\" standalone=\"no\"?>\n<!DOCTYPE svg PUBLIC \"-//W3C//DTD SVG 1.1//EN\"\n \"http://www.w3.org/Graphics/SVG/1.1/DTD/svg11.dtd\">\n<!-- Generated by graphviz version 2.40.1 (20161225.0304)\n -->\n<!-- Title: Tree Pages: 1 -->\n<svg width=\"1041pt\" height=\"477pt\"\n viewBox=\"0.00 0.00 1041.00 477.00\" xmlns=\"http://www.w3.org/2000/svg\" xmlns:xlink=\"http://www.w3.org/1999/xlink\">\n<g id=\"graph0\" class=\"graph\" transform=\"scale(1 1) rotate(0) translate(4 473)\">\n<title>Tree</title>\n<polygon fill=\"#ffffff\" stroke=\"transparent\" points=\"-4,4 -4,-473 1037,-473 1037,4 -4,4\"/>\n<!-- 0 -->\n<g id=\"node1\" class=\"node\">\n<title>0</title>\n<polygon fill=\"#afd7f4\" stroke=\"#000000\" points=\"647,-469 495,-469 495,-401 647,-401 647,-469\"/>\n<text text-anchor=\"middle\" x=\"571\" y=\"-453.8\" font-family=\"Times,serif\" font-size=\"14.00\" fill=\"#000000\">worst radius &lt;= 16.795</text>\n<text text-anchor=\"middle\" x=\"571\" y=\"-438.8\" font-family=\"Times,serif\" font-size=\"14.00\" fill=\"#000000\">samples = 426</text>\n<text text-anchor=\"middle\" x=\"571\" y=\"-423.8\" font-family=\"Times,serif\" font-size=\"14.00\" fill=\"#000000\">value = [159, 267]</text>\n<text text-anchor=\"middle\" x=\"571\" y=\"-408.8\" font-family=\"Times,serif\" font-size=\"14.00\" fill=\"#000000\">class = benign</text>\n</g>\n<!-- 1 -->\n<g id=\"node2\" class=\"node\">\n<title>1</title>\n<polygon fill=\"#4ca6e8\" stroke=\"#000000\" points=\"556.5,-365 361.5,-365 361.5,-297 556.5,-297 556.5,-365\"/>\n<text text-anchor=\"middle\" x=\"459\" y=\"-349.8\" font-family=\"Times,serif\" font-size=\"14.00\" fill=\"#000000\">worst concave points &lt;= 0.136</text>\n<text text-anchor=\"middle\" x=\"459\" y=\"-334.8\" font-family=\"Times,serif\" font-size=\"14.00\" fill=\"#000000\">samples = 284</text>\n<text text-anchor=\"middle\" x=\"459\" y=\"-319.8\" font-family=\"Times,serif\" font-size=\"14.00\" fill=\"#000000\">value = [25, 259]</text>\n<text text-anchor=\"middle\" x=\"459\" y=\"-304.8\" font-family=\"Times,serif\" font-size=\"14.00\" fill=\"#000000\">class = benign</text>\n</g>\n<!-- 0&#45;&gt;1 -->\n<g id=\"edge1\" class=\"edge\">\n<title>0&#45;&gt;1</title>\n<path fill=\"none\" stroke=\"#000000\" d=\"M534.327,-400.9465C524.3677,-391.6986 513.4789,-381.5876 503.1532,-371.9994\"/>\n<polygon fill=\"#000000\" stroke=\"#000000\" points=\"505.4649,-369.3698 495.7554,-365.13 500.7018,-374.4993 505.4649,-369.3698\"/>\n<text text-anchor=\"middle\" x=\"496.6807\" y=\"-386.4129\" font-family=\"Times,serif\" font-size=\"14.00\" fill=\"#000000\">True</text>\n</g>\n<!-- 14 -->\n<g id=\"node15\" class=\"node\">\n<title>14</title>\n<polygon fill=\"#e78945\" stroke=\"#000000\" points=\"729,-365 585,-365 585,-297 729,-297 729,-365\"/>\n<text text-anchor=\"middle\" x=\"657\" y=\"-349.8\" font-family=\"Times,serif\" font-size=\"14.00\" fill=\"#000000\">texture error &lt;= 0.473</text>\n<text text-anchor=\"middle\" x=\"657\" y=\"-334.8\" font-family=\"Times,serif\" font-size=\"14.00\" fill=\"#000000\">samples = 142</text>\n<text text-anchor=\"middle\" x=\"657\" y=\"-319.8\" font-family=\"Times,serif\" font-size=\"14.00\" fill=\"#000000\">value = [134, 8]</text>\n<text text-anchor=\"middle\" x=\"657\" y=\"-304.8\" font-family=\"Times,serif\" font-size=\"14.00\" fill=\"#000000\">class = malignant</text>\n</g>\n<!-- 0&#45;&gt;14 -->\n<g id=\"edge14\" class=\"edge\">\n<title>0&#45;&gt;14</title>\n<path fill=\"none\" stroke=\"#000000\" d=\"M599.1596,-400.9465C606.5842,-391.968 614.6815,-382.1758 622.4028,-372.8385\"/>\n<polygon fill=\"#000000\" stroke=\"#000000\" points=\"625.1017,-375.0669 628.7771,-365.13 619.7072,-370.606 625.1017,-375.0669\"/>\n<text text-anchor=\"middle\" x=\"631.135\" y=\"-386.3186\" font-family=\"Times,serif\" font-size=\"14.00\" fill=\"#000000\">False</text>\n</g>\n<!-- 2 -->\n<g id=\"node3\" class=\"node\">\n<title>2</title>\n<polygon fill=\"#3c9fe5\" stroke=\"#000000\" points=\"347.5,-261 212.5,-261 212.5,-193 347.5,-193 347.5,-261\"/>\n<text text-anchor=\"middle\" x=\"280\" y=\"-245.8\" font-family=\"Times,serif\" font-size=\"14.00\" fill=\"#000000\">area error &lt;= 91.555</text>\n<text text-anchor=\"middle\" x=\"280\" y=\"-230.8\" font-family=\"Times,serif\" font-size=\"14.00\" fill=\"#000000\">samples = 252</text>\n<text text-anchor=\"middle\" x=\"280\" y=\"-215.8\" font-family=\"Times,serif\" font-size=\"14.00\" fill=\"#000000\">value = [4, 248]</text>\n<text text-anchor=\"middle\" x=\"280\" y=\"-200.8\" font-family=\"Times,serif\" font-size=\"14.00\" fill=\"#000000\">class = benign</text>\n</g>\n<!-- 1&#45;&gt;2 -->\n<g id=\"edge2\" class=\"edge\">\n<title>1&#45;&gt;2</title>\n<path fill=\"none\" stroke=\"#000000\" d=\"M400.3887,-296.9465C383.5445,-287.1599 365.0364,-276.4066 347.692,-266.3294\"/>\n<polygon fill=\"#000000\" stroke=\"#000000\" points=\"349.1478,-263.1274 338.743,-261.13 345.6312,-269.18 349.1478,-263.1274\"/>\n</g>\n<!-- 7 -->\n<g id=\"node8\" class=\"node\">\n<title>7</title>\n<polygon fill=\"#f3c3a1\" stroke=\"#000000\" points=\"533.5,-261 384.5,-261 384.5,-193 533.5,-193 533.5,-261\"/>\n<text text-anchor=\"middle\" x=\"459\" y=\"-245.8\" font-family=\"Times,serif\" font-size=\"14.00\" fill=\"#000000\">worst texture &lt;= 25.62</text>\n<text text-anchor=\"middle\" x=\"459\" y=\"-230.8\" font-family=\"Times,serif\" font-size=\"14.00\" fill=\"#000000\">samples = 32</text>\n<text text-anchor=\"middle\" x=\"459\" y=\"-215.8\" font-family=\"Times,serif\" font-size=\"14.00\" fill=\"#000000\">value = [21, 11]</text>\n<text text-anchor=\"middle\" x=\"459\" y=\"-200.8\" font-family=\"Times,serif\" font-size=\"14.00\" fill=\"#000000\">class = malignant</text>\n</g>\n<!-- 1&#45;&gt;7 -->\n<g id=\"edge7\" class=\"edge\">\n<title>1&#45;&gt;7</title>\n<path fill=\"none\" stroke=\"#000000\" d=\"M459,-296.9465C459,-288.776 459,-279.9318 459,-271.3697\"/>\n<polygon fill=\"#000000\" stroke=\"#000000\" points=\"462.5001,-271.13 459,-261.13 455.5001,-271.13 462.5001,-271.13\"/>\n</g>\n<!-- 3 -->\n<g id=\"node4\" class=\"node\">\n<title>3</title>\n<polygon fill=\"#3b9ee5\" stroke=\"#000000\" points=\"204,-157 84,-157 84,-89 204,-89 204,-157\"/>\n<text text-anchor=\"middle\" x=\"144\" y=\"-141.8\" font-family=\"Times,serif\" font-size=\"14.00\" fill=\"#000000\">area error &lt;= 48.7</text>\n<text text-anchor=\"middle\" x=\"144\" y=\"-126.8\" font-family=\"Times,serif\" font-size=\"14.00\" fill=\"#000000\">samples = 251</text>\n<text text-anchor=\"middle\" x=\"144\" y=\"-111.8\" font-family=\"Times,serif\" font-size=\"14.00\" fill=\"#000000\">value = [3, 248]</text>\n<text text-anchor=\"middle\" x=\"144\" y=\"-96.8\" font-family=\"Times,serif\" font-size=\"14.00\" fill=\"#000000\">class = benign</text>\n</g>\n<!-- 2&#45;&gt;3 -->\n<g id=\"edge3\" class=\"edge\">\n<title>2&#45;&gt;3</title>\n<path fill=\"none\" stroke=\"#000000\" d=\"M235.4685,-192.9465C223.1403,-183.519 209.6391,-173.1946 196.885,-163.4415\"/>\n<polygon fill=\"#000000\" stroke=\"#000000\" points=\"198.7012,-160.4243 188.6315,-157.13 194.449,-165.9848 198.7012,-160.4243\"/>\n</g>\n<!-- 6 -->\n<g id=\"node7\" class=\"node\">\n<title>6</title>\n<polygon fill=\"#e58139\" stroke=\"#000000\" points=\"338,-149.5 222,-149.5 222,-96.5 338,-96.5 338,-149.5\"/>\n<text text-anchor=\"middle\" x=\"280\" y=\"-134.3\" font-family=\"Times,serif\" font-size=\"14.00\" fill=\"#000000\">samples = 1</text>\n<text text-anchor=\"middle\" x=\"280\" y=\"-119.3\" font-family=\"Times,serif\" font-size=\"14.00\" fill=\"#000000\">value = [1, 0]</text>\n<text text-anchor=\"middle\" x=\"280\" y=\"-104.3\" font-family=\"Times,serif\" font-size=\"14.00\" fill=\"#000000\">class = malignant</text>\n</g>\n<!-- 2&#45;&gt;6 -->\n<g id=\"edge6\" class=\"edge\">\n<title>2&#45;&gt;6</title>\n<path fill=\"none\" stroke=\"#000000\" d=\"M280,-192.9465C280,-182.2621 280,-170.4254 280,-159.5742\"/>\n<polygon fill=\"#000000\" stroke=\"#000000\" points=\"283.5001,-159.5421 280,-149.5422 276.5001,-159.5422 283.5001,-159.5421\"/>\n</g>\n<!-- 4 -->\n<g id=\"node5\" class=\"node\">\n<title>4</title>\n<polygon fill=\"#3b9ee5\" stroke=\"#000000\" points=\"110,-53 0,-53 0,0 110,0 110,-53\"/>\n<text text-anchor=\"middle\" x=\"55\" y=\"-37.8\" font-family=\"Times,serif\" font-size=\"14.00\" fill=\"#000000\">samples = 247</text>\n<text text-anchor=\"middle\" x=\"55\" y=\"-22.8\" font-family=\"Times,serif\" font-size=\"14.00\" fill=\"#000000\">value = [2, 245]</text>\n<text text-anchor=\"middle\" x=\"55\" y=\"-7.8\" font-family=\"Times,serif\" font-size=\"14.00\" fill=\"#000000\">class = benign</text>\n</g>\n<!-- 3&#45;&gt;4 -->\n<g id=\"edge4\" class=\"edge\">\n<title>3&#45;&gt;4</title>\n<path fill=\"none\" stroke=\"#000000\" d=\"M112.6219,-88.9777C104.1766,-79.8207 95.0389,-69.9129 86.5825,-60.744\"/>\n<polygon fill=\"#000000\" stroke=\"#000000\" points=\"89.0221,-58.2266 79.6696,-53.2485 83.8764,-62.9723 89.0221,-58.2266\"/>\n</g>\n<!-- 5 -->\n<g id=\"node6\" class=\"node\">\n<title>5</title>\n<polygon fill=\"#7bbeee\" stroke=\"#000000\" points=\"226,-53 128,-53 128,0 226,0 226,-53\"/>\n<text text-anchor=\"middle\" x=\"177\" y=\"-37.8\" font-family=\"Times,serif\" font-size=\"14.00\" fill=\"#000000\">samples = 4</text>\n<text text-anchor=\"middle\" x=\"177\" y=\"-22.8\" font-family=\"Times,serif\" font-size=\"14.00\" fill=\"#000000\">value = [1, 3]</text>\n<text text-anchor=\"middle\" x=\"177\" y=\"-7.8\" font-family=\"Times,serif\" font-size=\"14.00\" fill=\"#000000\">class = benign</text>\n</g>\n<!-- 3&#45;&gt;5 -->\n<g id=\"edge5\" class=\"edge\">\n<title>3&#45;&gt;5</title>\n<path fill=\"none\" stroke=\"#000000\" d=\"M155.6346,-88.9777C158.5155,-80.5533 161.6137,-71.4934 164.5325,-62.9579\"/>\n<polygon fill=\"#000000\" stroke=\"#000000\" points=\"167.9288,-63.843 167.8529,-53.2485 161.3054,-61.578 167.9288,-63.843\"/>\n</g>\n<!-- 8 -->\n<g id=\"node9\" class=\"node\">\n<title>8</title>\n<polygon fill=\"#7bbeee\" stroke=\"#000000\" points=\"543.5,-157 356.5,-157 356.5,-89 543.5,-89 543.5,-157\"/>\n<text text-anchor=\"middle\" x=\"450\" y=\"-141.8\" font-family=\"Times,serif\" font-size=\"14.00\" fill=\"#000000\">mean concave points &lt;= 0.08</text>\n<text text-anchor=\"middle\" x=\"450\" y=\"-126.8\" font-family=\"Times,serif\" font-size=\"14.00\" fill=\"#000000\">samples = 12</text>\n<text text-anchor=\"middle\" x=\"450\" y=\"-111.8\" font-family=\"Times,serif\" font-size=\"14.00\" fill=\"#000000\">value = [3, 9]</text>\n<text text-anchor=\"middle\" x=\"450\" y=\"-96.8\" font-family=\"Times,serif\" font-size=\"14.00\" fill=\"#000000\">class = benign</text>\n</g>\n<!-- 7&#45;&gt;8 -->\n<g id=\"edge8\" class=\"edge\">\n<title>7&#45;&gt;8</title>\n<path fill=\"none\" stroke=\"#000000\" d=\"M456.0531,-192.9465C455.346,-184.776 454.5806,-175.9318 453.8397,-167.3697\"/>\n<polygon fill=\"#000000\" stroke=\"#000000\" points=\"457.3028,-166.791 452.9536,-157.13 450.3288,-167.3945 457.3028,-166.791\"/>\n</g>\n<!-- 11 -->\n<g id=\"node12\" class=\"node\">\n<title>11</title>\n<polygon fill=\"#e88f4f\" stroke=\"#000000\" points=\"728.5,-157 561.5,-157 561.5,-89 728.5,-89 728.5,-157\"/>\n<text text-anchor=\"middle\" x=\"645\" y=\"-141.8\" font-family=\"Times,serif\" font-size=\"14.00\" fill=\"#000000\">worst symmetry &lt;= 0.268</text>\n<text text-anchor=\"middle\" x=\"645\" y=\"-126.8\" font-family=\"Times,serif\" font-size=\"14.00\" fill=\"#000000\">samples = 20</text>\n<text text-anchor=\"middle\" x=\"645\" y=\"-111.8\" font-family=\"Times,serif\" font-size=\"14.00\" fill=\"#000000\">value = [18, 2]</text>\n<text text-anchor=\"middle\" x=\"645\" y=\"-96.8\" font-family=\"Times,serif\" font-size=\"14.00\" fill=\"#000000\">class = malignant</text>\n</g>\n<!-- 7&#45;&gt;11 -->\n<g id=\"edge11\" class=\"edge\">\n<title>7&#45;&gt;11</title>\n<path fill=\"none\" stroke=\"#000000\" d=\"M519.9034,-192.9465C537.5669,-183.0701 556.9911,-172.2093 575.1566,-162.0522\"/>\n<polygon fill=\"#000000\" stroke=\"#000000\" points=\"576.9397,-165.0653 583.9598,-157.13 573.5234,-158.9555 576.9397,-165.0653\"/>\n</g>\n<!-- 9 -->\n<g id=\"node10\" class=\"node\">\n<title>9</title>\n<polygon fill=\"#4fa8e8\" stroke=\"#000000\" points=\"374,-53 276,-53 276,0 374,0 374,-53\"/>\n<text text-anchor=\"middle\" x=\"325\" y=\"-37.8\" font-family=\"Times,serif\" font-size=\"14.00\" fill=\"#000000\">samples = 10</text>\n<text text-anchor=\"middle\" x=\"325\" y=\"-22.8\" font-family=\"Times,serif\" font-size=\"14.00\" fill=\"#000000\">value = [1, 9]</text>\n<text text-anchor=\"middle\" x=\"325\" y=\"-7.8\" font-family=\"Times,serif\" font-size=\"14.00\" fill=\"#000000\">class = benign</text>\n</g>\n<!-- 8&#45;&gt;9 -->\n<g id=\"edge9\" class=\"edge\">\n<title>8&#45;&gt;9</title>\n<path fill=\"none\" stroke=\"#000000\" d=\"M405.9297,-88.9777C393.4752,-79.3629 379.9485,-68.9203 367.5833,-59.3743\"/>\n<polygon fill=\"#000000\" stroke=\"#000000\" points=\"369.7028,-56.5889 359.6483,-53.2485 365.4251,-62.1299 369.7028,-56.5889\"/>\n</g>\n<!-- 10 -->\n<g id=\"node11\" class=\"node\">\n<title>10</title>\n<polygon fill=\"#e58139\" stroke=\"#000000\" points=\"508,-53 392,-53 392,0 508,0 508,-53\"/>\n<text text-anchor=\"middle\" x=\"450\" y=\"-37.8\" font-family=\"Times,serif\" font-size=\"14.00\" fill=\"#000000\">samples = 2</text>\n<text text-anchor=\"middle\" x=\"450\" y=\"-22.8\" font-family=\"Times,serif\" font-size=\"14.00\" fill=\"#000000\">value = [2, 0]</text>\n<text text-anchor=\"middle\" x=\"450\" y=\"-7.8\" font-family=\"Times,serif\" font-size=\"14.00\" fill=\"#000000\">class = malignant</text>\n</g>\n<!-- 8&#45;&gt;10 -->\n<g id=\"edge10\" class=\"edge\">\n<title>8&#45;&gt;10</title>\n<path fill=\"none\" stroke=\"#000000\" d=\"M450,-88.9777C450,-80.7364 450,-71.887 450,-63.5153\"/>\n<polygon fill=\"#000000\" stroke=\"#000000\" points=\"453.5001,-63.2484 450,-53.2485 446.5001,-63.2485 453.5001,-63.2484\"/>\n</g>\n<!-- 12 -->\n<g id=\"node13\" class=\"node\">\n<title>12</title>\n<polygon fill=\"#9ccef2\" stroke=\"#000000\" points=\"624,-53 526,-53 526,0 624,0 624,-53\"/>\n<text text-anchor=\"middle\" x=\"575\" y=\"-37.8\" font-family=\"Times,serif\" font-size=\"14.00\" fill=\"#000000\">samples = 3</text>\n<text text-anchor=\"middle\" x=\"575\" y=\"-22.8\" font-family=\"Times,serif\" font-size=\"14.00\" fill=\"#000000\">value = [1, 2]</text>\n<text text-anchor=\"middle\" x=\"575\" y=\"-7.8\" font-family=\"Times,serif\" font-size=\"14.00\" fill=\"#000000\">class = benign</text>\n</g>\n<!-- 11&#45;&gt;12 -->\n<g id=\"edge12\" class=\"edge\">\n<title>11&#45;&gt;12</title>\n<path fill=\"none\" stroke=\"#000000\" d=\"M620.3206,-88.9777C613.8775,-80.0954 606.922,-70.5067 600.4402,-61.5711\"/>\n<polygon fill=\"#000000\" stroke=\"#000000\" points=\"603.1079,-59.288 594.403,-53.2485 597.4417,-63.3982 603.1079,-59.288\"/>\n</g>\n<!-- 13 -->\n<g id=\"node14\" class=\"node\">\n<title>13</title>\n<polygon fill=\"#e58139\" stroke=\"#000000\" points=\"758,-53 642,-53 642,0 758,0 758,-53\"/>\n<text text-anchor=\"middle\" x=\"700\" y=\"-37.8\" font-family=\"Times,serif\" font-size=\"14.00\" fill=\"#000000\">samples = 17</text>\n<text text-anchor=\"middle\" x=\"700\" y=\"-22.8\" font-family=\"Times,serif\" font-size=\"14.00\" fill=\"#000000\">value = [17, 0]</text>\n<text text-anchor=\"middle\" x=\"700\" y=\"-7.8\" font-family=\"Times,serif\" font-size=\"14.00\" fill=\"#000000\">class = malignant</text>\n</g>\n<!-- 11&#45;&gt;13 -->\n<g id=\"edge13\" class=\"edge\">\n<title>11&#45;&gt;13</title>\n<path fill=\"none\" stroke=\"#000000\" d=\"M664.3909,-88.9777C669.349,-80.2786 674.6933,-70.9018 679.6958,-62.1247\"/>\n<polygon fill=\"#000000\" stroke=\"#000000\" points=\"682.8438,-63.6696 684.7548,-53.2485 676.7622,-60.2033 682.8438,-63.6696\"/>\n</g>\n<!-- 15 -->\n<g id=\"node16\" class=\"node\">\n<title>15</title>\n<polygon fill=\"#399de5\" stroke=\"#000000\" points=\"706,-253.5 608,-253.5 608,-200.5 706,-200.5 706,-253.5\"/>\n<text text-anchor=\"middle\" x=\"657\" y=\"-238.3\" font-family=\"Times,serif\" font-size=\"14.00\" fill=\"#000000\">samples = 5</text>\n<text text-anchor=\"middle\" x=\"657\" y=\"-223.3\" font-family=\"Times,serif\" font-size=\"14.00\" fill=\"#000000\">value = [0, 5]</text>\n<text text-anchor=\"middle\" x=\"657\" y=\"-208.3\" font-family=\"Times,serif\" font-size=\"14.00\" fill=\"#000000\">class = benign</text>\n</g>\n<!-- 14&#45;&gt;15 -->\n<g id=\"edge15\" class=\"edge\">\n<title>14&#45;&gt;15</title>\n<path fill=\"none\" stroke=\"#000000\" d=\"M657,-296.9465C657,-286.2621 657,-274.4254 657,-263.5742\"/>\n<polygon fill=\"#000000\" stroke=\"#000000\" points=\"660.5001,-263.5421 657,-253.5422 653.5001,-263.5422 660.5001,-263.5421\"/>\n</g>\n<!-- 16 -->\n<g id=\"node17\" class=\"node\">\n<title>16</title>\n<polygon fill=\"#e6843d\" stroke=\"#000000\" points=\"907.5,-261 742.5,-261 742.5,-193 907.5,-193 907.5,-261\"/>\n<text text-anchor=\"middle\" x=\"825\" y=\"-245.8\" font-family=\"Times,serif\" font-size=\"14.00\" fill=\"#000000\">worst concavity &lt;= 0.191</text>\n<text text-anchor=\"middle\" x=\"825\" y=\"-230.8\" font-family=\"Times,serif\" font-size=\"14.00\" fill=\"#000000\">samples = 137</text>\n<text text-anchor=\"middle\" x=\"825\" y=\"-215.8\" font-family=\"Times,serif\" font-size=\"14.00\" fill=\"#000000\">value = [134, 3]</text>\n<text text-anchor=\"middle\" x=\"825\" y=\"-200.8\" font-family=\"Times,serif\" font-size=\"14.00\" fill=\"#000000\">class = malignant</text>\n</g>\n<!-- 14&#45;&gt;16 -->\n<g id=\"edge16\" class=\"edge\">\n<title>14&#45;&gt;16</title>\n<path fill=\"none\" stroke=\"#000000\" d=\"M712.0095,-296.9465C727.6736,-287.2497 744.8707,-276.6039 761.0196,-266.6069\"/>\n<polygon fill=\"#000000\" stroke=\"#000000\" points=\"763.2065,-269.3695 769.8669,-261.13 759.522,-263.4177 763.2065,-269.3695\"/>\n</g>\n<!-- 17 -->\n<g id=\"node18\" class=\"node\">\n<title>17</title>\n<polygon fill=\"#bddef6\" stroke=\"#000000\" points=\"899,-157 751,-157 751,-89 899,-89 899,-157\"/>\n<text text-anchor=\"middle\" x=\"825\" y=\"-141.8\" font-family=\"Times,serif\" font-size=\"14.00\" fill=\"#000000\">mean texture &lt;= 21.35</text>\n<text text-anchor=\"middle\" x=\"825\" y=\"-126.8\" font-family=\"Times,serif\" font-size=\"14.00\" fill=\"#000000\">samples = 5</text>\n<text text-anchor=\"middle\" x=\"825\" y=\"-111.8\" font-family=\"Times,serif\" font-size=\"14.00\" fill=\"#000000\">value = [2, 3]</text>\n<text text-anchor=\"middle\" x=\"825\" y=\"-96.8\" font-family=\"Times,serif\" font-size=\"14.00\" fill=\"#000000\">class = benign</text>\n</g>\n<!-- 16&#45;&gt;17 -->\n<g id=\"edge17\" class=\"edge\">\n<title>16&#45;&gt;17</title>\n<path fill=\"none\" stroke=\"#000000\" d=\"M825,-192.9465C825,-184.776 825,-175.9318 825,-167.3697\"/>\n<polygon fill=\"#000000\" stroke=\"#000000\" points=\"828.5001,-167.13 825,-157.13 821.5001,-167.13 828.5001,-167.13\"/>\n</g>\n<!-- 20 -->\n<g id=\"node21\" class=\"node\">\n<title>20</title>\n<polygon fill=\"#e58139\" stroke=\"#000000\" points=\"1033,-149.5 917,-149.5 917,-96.5 1033,-96.5 1033,-149.5\"/>\n<text text-anchor=\"middle\" x=\"975\" y=\"-134.3\" font-family=\"Times,serif\" font-size=\"14.00\" fill=\"#000000\">samples = 132</text>\n<text text-anchor=\"middle\" x=\"975\" y=\"-119.3\" font-family=\"Times,serif\" font-size=\"14.00\" fill=\"#000000\">value = [132, 0]</text>\n<text text-anchor=\"middle\" x=\"975\" y=\"-104.3\" font-family=\"Times,serif\" font-size=\"14.00\" fill=\"#000000\">class = malignant</text>\n</g>\n<!-- 16&#45;&gt;20 -->\n<g id=\"edge20\" class=\"edge\">\n<title>16&#45;&gt;20</title>\n<path fill=\"none\" stroke=\"#000000\" d=\"M874.1156,-192.9465C891.5912,-180.8301 911.2038,-167.232 928.4573,-155.2696\"/>\n<polygon fill=\"#000000\" stroke=\"#000000\" points=\"930.4943,-158.1163 936.718,-149.5422 926.5058,-152.3637 930.4943,-158.1163\"/>\n</g>\n<!-- 18 -->\n<g id=\"node19\" class=\"node\">\n<title>18</title>\n<polygon fill=\"#399de5\" stroke=\"#000000\" points=\"874,-53 776,-53 776,0 874,0 874,-53\"/>\n<text text-anchor=\"middle\" x=\"825\" y=\"-37.8\" font-family=\"Times,serif\" font-size=\"14.00\" fill=\"#000000\">samples = 3</text>\n<text text-anchor=\"middle\" x=\"825\" y=\"-22.8\" font-family=\"Times,serif\" font-size=\"14.00\" fill=\"#000000\">value = [0, 3]</text>\n<text text-anchor=\"middle\" x=\"825\" y=\"-7.8\" font-family=\"Times,serif\" font-size=\"14.00\" fill=\"#000000\">class = benign</text>\n</g>\n<!-- 17&#45;&gt;18 -->\n<g id=\"edge18\" class=\"edge\">\n<title>17&#45;&gt;18</title>\n<path fill=\"none\" stroke=\"#000000\" d=\"M825,-88.9777C825,-80.7364 825,-71.887 825,-63.5153\"/>\n<polygon fill=\"#000000\" stroke=\"#000000\" points=\"828.5001,-63.2484 825,-53.2485 821.5001,-63.2485 828.5001,-63.2484\"/>\n</g>\n<!-- 19 -->\n<g id=\"node20\" class=\"node\">\n<title>19</title>\n<polygon fill=\"#e58139\" stroke=\"#000000\" points=\"1008,-53 892,-53 892,0 1008,0 1008,-53\"/>\n<text text-anchor=\"middle\" x=\"950\" y=\"-37.8\" font-family=\"Times,serif\" font-size=\"14.00\" fill=\"#000000\">samples = 2</text>\n<text text-anchor=\"middle\" x=\"950\" y=\"-22.8\" font-family=\"Times,serif\" font-size=\"14.00\" fill=\"#000000\">value = [2, 0]</text>\n<text text-anchor=\"middle\" x=\"950\" y=\"-7.8\" font-family=\"Times,serif\" font-size=\"14.00\" fill=\"#000000\">class = malignant</text>\n</g>\n<!-- 17&#45;&gt;19 -->\n<g id=\"edge19\" class=\"edge\">\n<title>17&#45;&gt;19</title>\n<path fill=\"none\" stroke=\"#000000\" d=\"M869.0703,-88.9777C881.5248,-79.3629 895.0515,-68.9203 907.4167,-59.3743\"/>\n<polygon fill=\"#000000\" stroke=\"#000000\" points=\"909.5749,-62.1299 915.3517,-53.2485 905.2972,-56.5889 909.5749,-62.1299\"/>\n</g>\n</g>\n</svg>\n"
          },
          "metadata": {},
          "execution_count": 61
        }
      ]
    },
    {
      "cell_type": "markdown",
      "metadata": {
        "id": "AgmepQhY4mlr"
      },
      "source": [
        "Em árvores de decisão é possível verificar qual a feature que foi mais influente na divisão da classificação, isto é, qual dividiu o maior número de amostras."
      ]
    },
    {
      "cell_type": "code",
      "metadata": {
        "id": "0UrWgsq938pj",
        "colab": {
          "base_uri": "https://localhost:8080/",
          "height": 279
        },
        "outputId": "4fda58f1-c501-4baa-91f0-6a49f9664b51"
      },
      "source": [
        "def plot_feature_importances_cancer(model):\n",
        " n_features = cancer.data.shape[1]\n",
        " plt.barh(range(n_features), model.feature_importances_, align='center')\n",
        " plt.yticks(np.arange(n_features), cancer.feature_names)\n",
        " plt.xlabel(\"Feature importance\")\n",
        " plt.ylabel(\"Feature\")\n",
        "plot_feature_importances_cancer(tree)"
      ],
      "execution_count": null,
      "outputs": [
        {
          "output_type": "display_data",
          "data": {
            "image/png": "[encoded data removed]",
            "text/plain": [
              "<Figure size 432x288 with 1 Axes>"
            ]
          },
          "metadata": {
            "needs_background": "light"
          }
        }
      ]
    },
    {
      "cell_type": "markdown",
      "metadata": {
        "id": "rutdWW_J1n_j"
      },
      "source": [
        "### Parâmetros de um algoritmo\n",
        "\n",
        "Todo algoritmo terá parâmetros que poderão afetar no seu desempenho. A fim de obter o melhor resultado, é preciso obter primeiro o parâmetro que melhor funciona no caso do problema enfrentado. É isso que fazemos no exemplo acima, uma vez que identificamos que o parâmetro `max_depth` pode ter muita influencia na precisão do algoritmo.\n",
        "\n",
        "Embora isso funcione, a melhor maneira de verificar a efetividade dos parâmetros é testar diversos valores para os parâmetros e comparar qual o melhor resultado entre eles.\n",
        "\n",
        "No caso do KNN, o parâmetro é o número de vizinhos a ser considerado na hora da classificação. Vamos aplicá-lo neste mesmo dataset e ver o resultado."
      ]
    },
    {
      "cell_type": "code",
      "metadata": {
        "colab": {
          "base_uri": "https://localhost:8080/",
          "height": 297
        },
        "id": "FsTn7shq01ZD",
        "outputId": "4568210c-5cac-4c14-93fa-87e9ff807cea"
      },
      "source": [
        "from sklearn.model_selection import train_test_split\n",
        "from sklearn.datasets import load_breast_cancer\n",
        "\n",
        "from sklearn.neighbors import KNeighborsClassifier # importa o algoritmo\n",
        "\n",
        "cancer = load_breast_cancer()\n",
        "X_train, X_test, y_train, y_test = train_test_split(\n",
        " cancer.data, cancer.target, stratify=cancer.target, random_state=66)\n",
        "training_accuracy = []\n",
        "\n",
        "test_accuracy = []\n",
        "\n",
        "# aplicaremos o algoritmo com 0 a 10 vizinhos\n",
        "neighbors_settings = range(1, 11)\n",
        "\n",
        "for n_neighbors in neighbors_settings:\n",
        " # build the model\n",
        " clf = KNeighborsClassifier(n_neighbors=n_neighbors)\n",
        " clf.fit(X_train, y_train)\n",
        " # record training set accuracy\n",
        " training_accuracy.append(clf.score(X_train, y_train))\n",
        " # record generalization accuracy\n",
        " test_accuracy.append(clf.score(X_test, y_test))\n",
        "\n",
        "plt.plot(neighbors_settings, training_accuracy, label=\"Precisão no treinamento\")\n",
        "plt.plot(neighbors_settings, test_accuracy, label=\"Precisão no teste\")\n",
        "plt.ylabel(\"Precisão\")\n",
        "plt.xlabel(\"n_vizinhos\")\n",
        "plt.legend()"
      ],
      "execution_count": null,
      "outputs": [
        {
          "output_type": "execute_result",
          "data": {
            "text/plain": [
              "<matplotlib.legend.Legend at 0x7f24af987cd0>"
            ]
          },
          "metadata": {},
          "execution_count": 63
        },
        {
          "output_type": "display_data",
          "data": {
            "image/png": "[encoded data removed]",
            "text/plain": [
              "<Figure size 432x288 with 1 Axes>"
            ]
          },
          "metadata": {
            "needs_background": "light"
          }
        }
      ]
    },
    {
      "cell_type": "markdown",
      "metadata": {
        "id": "rnX5Mos247HV"
      },
      "source": [
        "## Conclusão"
      ]
    },
    {
      "cell_type": "markdown",
      "metadata": {
        "id": "OXSKwNb2490G"
      },
      "source": [
        "Esses foram os conceitos fundamentais e mais básicos da Aprendizagem de Máquina. Para completar, faltam detalhes sobre o aprendizado não supervisionado e algoritmos de regressão, mas o fluxo é basicamente este, é assim que algoritmos que usam nossos dados funcionam, e é por isso que seus dados são importantes, raros e valiosos. **Big Data**, **Data Science**, **Inteligência Artificial** e **Machine Learning** são o presente e o futuro da tecnologia e da ciência como um todo.\n",
        "\n",
        "Algumas lições que eu aprendi sobre inteligência artificial:\n",
        "\n",
        "*   Algoritmos são simples, a chave são **dados**.\n",
        "*   Se um produto é de graça, o produto é você.\n",
        "*   Máquinas podem ser mais inteligentes que seres humanos?\n",
        "    * Senciência e capacidade computacional\n",
        "*   Computadores vão dominar o mundo?\n",
        "    * Inteligência Geral Artifical e singularidade\n",
        "    * **A realidade é, estamos criando Deus** - *Mo Gawdat*\n",
        "*   Vou perder meu emprego para um computador?\n",
        "    *  **É muito mais fácil lutar contra a exploração do que contra a irrelevância** - *Yuval Noah Harari*\n"
      ]
    },
    {
      "cell_type": "markdown",
      "metadata": {
        "id": "2HFzteYNHej7"
      },
      "source": [
        "<img src=\"https://miro.medium.com/max/724/1*JiSQVnR_nibjRC1azRl6Fw.jpeg\">"
      ]
    },
    {
      "cell_type": "markdown",
      "metadata": {
        "id": "WOyJPHB0HgB8"
      },
      "source": [
        "Espero que tenham entendido os conceitos mais importantes e que possam replicar alguns modelos com outros exemplos e outros casos de uso. Para quem quer saber mais e ter uma abordagem completa e de qualidade indico o livro [Introdução ao Machine Learning com Python](https://www.amazon.com.br/Introduction-Machine-Learning-Andreas-Mueller/dp/1449369413/ref=asc_df_1449369413/?tag=googleshopp00-20&linkCode=df0&hvadid=379795170134&hvpos=&hvnetw=g&hvrand=6040530416389865413&hvpone=&hvptwo=&hvqmt=&hvdev=c&hvdvcmdl=&hvlocint=&hvlocphy=20105&hvtargid=pla-423142395481&psc=1).\n",
        "\n",
        "Obrigado pela atenção!"
      ]
    }
  ]
}